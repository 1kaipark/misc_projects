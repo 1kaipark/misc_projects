{
 "cells": [
  {
   "cell_type": "code",
   "execution_count": 1,
   "metadata": {
    "ExecuteTime": {
     "end_time": "2024-03-17T06:39:19.775599Z",
     "start_time": "2024-03-17T06:39:19.706917Z"
    }
   },
   "outputs": [],
   "source": [
    "from soundcloud.raincloud.lib.Downloader import Downloader as scdl\n",
    "from pytube import YouTube as yt\n",
    "import os"
   ]
  },
  {
   "cell_type": "code",
   "execution_count": 2,
   "metadata": {
    "ExecuteTime": {
     "end_time": "2024-03-17T08:22:42.889130Z",
     "start_time": "2024-03-17T08:22:42.881327Z"
    },
    "collapsed": false
   },
   "outputs": [],
   "source": [
    "from soundcloud.raincloud.lib.Downloader import Downloader as scdl\n",
    "from pytube import YouTube as yt\n",
    "\n",
    "client_id = 'rVtnkH7kI646kRDwGSONEc7euMBMyJwv'\n",
    "downloader = scdl(client_id)\n",
    "\n",
    "def parse_url(url):\n",
    "    if 'soundcloud' in url:\n",
    "        return 'soundcloud'\n",
    "    elif 'youtube' in url:\n",
    "        return 'youtube'\n",
    "    \n",
    "    \n",
    "def download():\n",
    "    url = 'CODE TO GET ENTRY TEXT HERE'\n",
    "    dest = None # CODE TO TKINTER SAVE FILE DIALOG\n",
    "    which = parse_url(url)\n",
    "    if which == 'soundcloud':\n",
    "        # download soundcloud code here\n",
    "        res = downloader.get_resolved(url)\n",
    "        stream = downloader.get_streaming_url(res)\n",
    "        downloader.stream_download(stream, dest)\n",
    "    elif which == 'youtube':\n",
    "        # download youtube mp3 code here\n",
    "        ytube = yt(url)\n",
    "        audio = ytube.streams.filter(url, only_audio = True)\n",
    "        audio[0],download(dest)\n",
    "        \n",
    "        \n",
    "# NOTE tkinter GUI with url and one button to download. will auto-parse link and download either yt mp3 or sc mp3. menu bar should have option for enter soundcloud cilent id. yt client id not needed."
   ]
  },
  {
   "cell_type": "code",
   "execution_count": null,
   "metadata": {
    "ExecuteTime": {
     "start_time": "2024-03-17T06:56:13.001280Z"
    },
    "collapsed": false
   },
   "outputs": [],
   "source": [
    "from tkinter import filedialog, messagebox, simpledialog, Tk, Canvas, Entry, Text, Button, PhotoImage\n",
    "from soundcloud.raincloud.lib.Downloader import Downloader as scdl\n",
    "from pytube import YouTube as yt\n",
    "\n",
    "from pathlib import Path\n",
    "import os\n",
    "\n",
    "# from tkinter import *\n",
    "# Explicit imports to satisfy Flake8\n",
    "\n",
    "\n",
    "# OUTPUT_PATH = Path(__file__).parent\n",
    "OUTPUT_PATH = os.getcwd()\n",
    "ASSETS_PATH = OUTPUT_PATH / Path(r\"/Users/applelaptop/CODE/misc_projs/assets/frame0\")\n",
    "\n",
    "\n",
    "class balls:\n",
    "    def __init__(self, master):\n",
    "        self.master = master\n",
    "        master.title(\"downloader\")\n",
    "\n",
    "        self.client_id = 'rVtnkH7kI646kRDwGSONEc7euMBMyJwv'  # Default client ID\n",
    "        self.downloader = scdl(self.client_id)\n",
    "\n",
    "        self.url_label = tk.Label(master, text=\"soundcloud/youtube URL:\")\n",
    "        self.url_label.pack()\n",
    "\n",
    "        self.url_entry = tk.Entry(master)\n",
    "        self.url_entry.pack()\n",
    "\n",
    "        self.download_button = tk.Button(master, text=\"download\", command=self.download)\n",
    "        self.download_button.pack()\n",
    "\n",
    "        self.menu = tk.Menu(master)\n",
    "        self.master.config(menu=self.menu)\n",
    "\n",
    "        self.file_menu = tk.Menu(self.menu)\n",
    "        self.menu.add_cascade(label='prefs', menu=self.file_menu)\n",
    "        self.file_menu.add_command(label='set soundcloud client ID', command=self.set_client_id)\n",
    "\n",
    "    def set_client_id(self):\n",
    "        self.client_id = simpledialog.askstring(\"what\", \"is yo client id?\",\n",
    "                                                parent = self.master)\n",
    "        self.downloader = scdl(self.client_id)\n",
    "        messagebox.showinfo(\"ight\", \"client id success\")\n",
    "\n",
    "    def parse_url(self, url):\n",
    "        if 'soundcloud' in url:\n",
    "            return 'soundcloud'\n",
    "        elif 'youtube' in url:\n",
    "            return 'youtube'\n",
    "        else:\n",
    "            return None\n",
    "\n",
    "    def download(self):\n",
    "        url = self.url_entry.get()\n",
    "        dest = filedialog.asksaveasfilename()\n",
    "\n",
    "        which = self.parse_url(url)\n",
    "        if not dest:\n",
    "            messagebox.showwarning(\"whuat\", \"idk what u doing\")\n",
    "            return\n",
    "\n",
    "        if which == 'soundcloud':\n",
    "            try:\n",
    "                res = self.downloader.get_resolved(url)\n",
    "                stream = self.downloader.get_streaming_url(res)\n",
    "                self.downloader.stream_download(stream, dest)\n",
    "                messagebox.showinfo(\"lesgo\", \"soundcloud downloaded\")\n",
    "            except Exception as e:\n",
    "                messagebox.showerror(\"error!!!\", str(e))\n",
    "        elif which == 'youtube':\n",
    "            try:\n",
    "                ytube = yt(url)\n",
    "                audio = ytube.streams.filter(only_audio = True).first()\n",
    "                audio.download(filename = dest)\n",
    "                messagebox.showinfo(\"lesgo\", \"youtube downloaded\")\n",
    "            except Exception as e:\n",
    "                messagebox.showerror(\"error!!!\", str(e))\n",
    "        else:\n",
    "            messagebox.showwarning(\"what\", \"you dumbaxe\")\n",
    "\n",
    "root = tk.Tk()\n",
    "app = balls(root)\n",
    "root.mainloop()\n",
    "\n"
   ]
  },
  {
   "cell_type": "code",
   "execution_count": 6,
   "metadata": {
    "ExecuteTime": {
     "end_time": "2024-03-17T07:12:28.500972Z",
     "start_time": "2024-03-17T07:12:28.496926Z"
    },
    "collapsed": false
   },
   "outputs": [
    {
     "data": {
      "text/plain": [
       "'/Users/applelaptop/CODE/misc_projs'"
      ]
     },
     "execution_count": 6,
     "metadata": {},
     "output_type": "execute_result"
    }
   ],
   "source": [
    "import os\n",
    "p = os.getcwd()\n",
    "p"
   ]
  },
  {
   "cell_type": "code",
   "execution_count": null,
   "metadata": {
    "ExecuteTime": {
     "start_time": "2024-03-17T07:51:18.328983Z"
    },
    "collapsed": false
   },
   "outputs": [],
   "source": []
  },
  {
   "cell_type": "code",
   "execution_count": 1,
   "metadata": {
    "collapsed": false,
    "ExecuteTime": {
     "end_time": "2024-03-17T10:00:29.627685Z",
     "start_time": "2024-03-17T10:00:29.616244Z"
    }
   },
   "outputs": [],
   "source": [
    "from pytube import YouTube as yt\n",
    "ytube = yt('https://www.youtube.com/watch?v=i7mEFW25BQ0')"
   ]
  },
  {
   "cell_type": "code",
   "execution_count": 17,
   "metadata": {
    "collapsed": false,
    "ExecuteTime": {
     "end_time": "2024-03-17T10:05:54.789062Z",
     "start_time": "2024-03-17T10:05:54.757473Z"
    }
   },
   "outputs": [],
   "source": [
    "a = ytube.streams.get_audio_only()"
   ]
  },
  {
   "cell_type": "code",
   "outputs": [
    {
     "ename": "TypeError",
     "evalue": "'Stream' object is not subscriptable",
     "output_type": "error",
     "traceback": [
      "\u001B[0;31m---------------------------------------------------------------------------\u001B[0m",
      "\u001B[0;31mTypeError\u001B[0m                                 Traceback (most recent call last)",
      "Cell \u001B[0;32mIn[19], line 1\u001B[0m\n\u001B[0;32m----> 1\u001B[0m a[\u001B[38;5;241m0\u001B[39m]\n",
      "\u001B[0;31mTypeError\u001B[0m: 'Stream' object is not subscriptable"
     ]
    }
   ],
   "source": [
    "a[0]"
   ],
   "metadata": {
    "collapsed": false,
    "ExecuteTime": {
     "end_time": "2024-03-17T10:06:23.388309Z",
     "start_time": "2024-03-17T10:06:23.380068Z"
    }
   },
   "execution_count": 19
  },
  {
   "cell_type": "code",
   "execution_count": 3,
   "metadata": {
    "ExecuteTime": {
     "end_time": "2024-03-17T08:33:54.598403Z",
     "start_time": "2024-03-17T08:33:54.567033Z"
    },
    "collapsed": false
   },
   "outputs": [],
   "source": [
    "import requests\n",
    "import os\n",
    "from mutagen.id3 import ID3, APIC\n",
    "import mutagen\n",
    "\n",
    "\n",
    "def get_yt_metadata(url, dest):\n",
    "    # get thumbnail as 'cover art'\n",
    "    ytube = yt(url)\n",
    "    img_url = ytube.thumbnail_url\n",
    "    img = requests.get(img_url).content\n",
    "    temp_ca = 'temp.jpg'\n",
    "    with open(temp_ca, 'wb') as fi:\n",
    "        fi.write(img)\n",
    "    \n",
    "    # get video name\n",
    "    vidname = ytube.vid_info['videoDetails']['title']\n",
    "\n",
    "    \n",
    "    # 'artist' (channel) name\n",
    "    artistname = ytube.author\n",
    "    \n",
    "    audio_ez = mutagen.File(dest, easy = True)\n",
    "    if audio_ez.tags is None:\n",
    "        audio_ez.add_tags()\n",
    "    audio_ez['artist'] = artistname\n",
    "    audio_ez['title'] = vidname\n",
    "    audio_ez.save()\n",
    "\n",
    "    # add cover art - can't use easyID3\n",
    "    ad = mutagen.File(dest)\n",
    "    with open(temp_ca, 'rb') as coverart:\n",
    "        ad['APIC'] = APIC(\n",
    "            encoding = 3,\n",
    "            mime = 'image/jpeg',\n",
    "            type = 3,\n",
    "            desc = u'Cover',\n",
    "            data = coverart.read()\n",
    "        )\n",
    "    ad.save()\n",
    "    \n"
   ]
  },
  {
   "cell_type": "code",
   "execution_count": 4,
   "metadata": {
    "ExecuteTime": {
     "end_time": "2024-03-17T08:20:48.374042Z",
     "start_time": "2024-03-17T08:20:47.893721Z"
    },
    "collapsed": false
   },
   "outputs": [
    {
     "ename": "TypeError",
     "evalue": "'APIC' object is not iterable",
     "output_type": "error",
     "traceback": [
      "\u001B[0;31m---------------------------------------------------------------------------\u001B[0m",
      "\u001B[0;31mTypeError\u001B[0m                                 Traceback (most recent call last)",
      "Cell \u001B[0;32mIn[4], line 2\u001B[0m\n\u001B[1;32m      1\u001B[0m \u001B[38;5;28;01mimport\u001B[39;00m \u001B[38;5;21;01mos\u001B[39;00m\n\u001B[0;32m----> 2\u001B[0m get_yt_metadata(\u001B[38;5;124m'\u001B[39m\u001B[38;5;124mhttps://www.youtube.com/watch?v=i7mEFW25BQ0\u001B[39m\u001B[38;5;124m'\u001B[39m, \u001B[38;5;124m'\u001B[39m\u001B[38;5;124m/Users/applelaptop/Downloads/test3.mp3\u001B[39m\u001B[38;5;124m'\u001B[39m)\n",
      "Cell \u001B[0;32mIn[3], line 33\u001B[0m, in \u001B[0;36mget_yt_metadata\u001B[0;34m(url, dest)\u001B[0m\n\u001B[1;32m     31\u001B[0m ad \u001B[38;5;241m=\u001B[39m mutagen\u001B[38;5;241m.\u001B[39mFile(dest)\n\u001B[1;32m     32\u001B[0m \u001B[38;5;28;01mwith\u001B[39;00m \u001B[38;5;28mopen\u001B[39m(temp_ca, \u001B[38;5;124m'\u001B[39m\u001B[38;5;124mrb\u001B[39m\u001B[38;5;124m'\u001B[39m) \u001B[38;5;28;01mas\u001B[39;00m coverart:\n\u001B[0;32m---> 33\u001B[0m     ad[\u001B[38;5;124m'\u001B[39m\u001B[38;5;124mAPIC\u001B[39m\u001B[38;5;124m'\u001B[39m] \u001B[38;5;241m=\u001B[39m APIC(\n\u001B[1;32m     34\u001B[0m         encoding \u001B[38;5;241m=\u001B[39m \u001B[38;5;241m3\u001B[39m,\n\u001B[1;32m     35\u001B[0m         mime \u001B[38;5;241m=\u001B[39m \u001B[38;5;124m'\u001B[39m\u001B[38;5;124mimage/jpeg\u001B[39m\u001B[38;5;124m'\u001B[39m,\n\u001B[1;32m     36\u001B[0m         \u001B[38;5;28mtype\u001B[39m \u001B[38;5;241m=\u001B[39m \u001B[38;5;241m3\u001B[39m,\n\u001B[1;32m     37\u001B[0m         desc \u001B[38;5;241m=\u001B[39m \u001B[38;5;124mu\u001B[39m\u001B[38;5;124m'\u001B[39m\u001B[38;5;124mCover\u001B[39m\u001B[38;5;124m'\u001B[39m,\n\u001B[1;32m     38\u001B[0m         data \u001B[38;5;241m=\u001B[39m coverart\u001B[38;5;241m.\u001B[39mread()\n\u001B[1;32m     39\u001B[0m     )\n\u001B[1;32m     40\u001B[0m ad\u001B[38;5;241m.\u001B[39msave()\n",
      "File \u001B[0;32m/opt/anaconda3/lib/python3.11/site-packages/mutagen/_file.py:74\u001B[0m, in \u001B[0;36mFileType.__setitem__\u001B[0;34m(self, key, value)\u001B[0m\n\u001B[1;32m     72\u001B[0m \u001B[38;5;28;01mif\u001B[39;00m \u001B[38;5;28mself\u001B[39m\u001B[38;5;241m.\u001B[39mtags \u001B[38;5;129;01mis\u001B[39;00m \u001B[38;5;28;01mNone\u001B[39;00m:\n\u001B[1;32m     73\u001B[0m     \u001B[38;5;28mself\u001B[39m\u001B[38;5;241m.\u001B[39madd_tags()\n\u001B[0;32m---> 74\u001B[0m \u001B[38;5;28mself\u001B[39m\u001B[38;5;241m.\u001B[39mtags[key] \u001B[38;5;241m=\u001B[39m value\n",
      "File \u001B[0;32m/opt/anaconda3/lib/python3.11/site-packages/mutagen/mp4/__init__.py:372\u001B[0m, in \u001B[0;36mMP4Tags.__setitem__\u001B[0;34m(self, key, value)\u001B[0m\n\u001B[1;32m    370\u001B[0m \u001B[38;5;28;01mif\u001B[39;00m \u001B[38;5;129;01mnot\u001B[39;00m \u001B[38;5;28misinstance\u001B[39m(key, \u001B[38;5;28mstr\u001B[39m):\n\u001B[1;32m    371\u001B[0m     \u001B[38;5;28;01mraise\u001B[39;00m \u001B[38;5;167;01mTypeError\u001B[39;00m(\u001B[38;5;124m\"\u001B[39m\u001B[38;5;124mkey has to be str\u001B[39m\u001B[38;5;124m\"\u001B[39m)\n\u001B[0;32m--> 372\u001B[0m \u001B[38;5;28mself\u001B[39m\u001B[38;5;241m.\u001B[39m_render(key, value)\n\u001B[1;32m    373\u001B[0m \u001B[38;5;28msuper\u001B[39m(MP4Tags, \u001B[38;5;28mself\u001B[39m)\u001B[38;5;241m.\u001B[39m\u001B[38;5;21m__setitem__\u001B[39m(key, value)\n",
      "File \u001B[0;32m/opt/anaconda3/lib/python3.11/site-packages/mutagen/mp4/__init__.py:388\u001B[0m, in \u001B[0;36mMP4Tags._render\u001B[0;34m(self, key, value)\u001B[0m\n\u001B[1;32m    385\u001B[0m     render_func \u001B[38;5;241m=\u001B[39m \u001B[38;5;28mtype\u001B[39m(\u001B[38;5;28mself\u001B[39m)\u001B[38;5;241m.\u001B[39m__render_text\n\u001B[1;32m    386\u001B[0m     render_args \u001B[38;5;241m=\u001B[39m []\n\u001B[0;32m--> 388\u001B[0m \u001B[38;5;28;01mreturn\u001B[39;00m render_func(\u001B[38;5;28mself\u001B[39m, key, value, \u001B[38;5;241m*\u001B[39mrender_args)\n",
      "File \u001B[0;32m/opt/anaconda3/lib/python3.11/site-packages/mutagen/mp4/__init__.py:822\u001B[0m, in \u001B[0;36mMP4Tags.__render_text\u001B[0;34m(self, key, value, flags)\u001B[0m\n\u001B[1;32m    819\u001B[0m     value \u001B[38;5;241m=\u001B[39m [value]\n\u001B[1;32m    821\u001B[0m encoded \u001B[38;5;241m=\u001B[39m []\n\u001B[0;32m--> 822\u001B[0m \u001B[38;5;28;01mfor\u001B[39;00m v \u001B[38;5;129;01min\u001B[39;00m value:\n\u001B[1;32m    823\u001B[0m     \u001B[38;5;28;01mif\u001B[39;00m \u001B[38;5;129;01mnot\u001B[39;00m \u001B[38;5;28misinstance\u001B[39m(v, \u001B[38;5;28mstr\u001B[39m):\n\u001B[1;32m    824\u001B[0m         \u001B[38;5;28;01mraise\u001B[39;00m \u001B[38;5;167;01mTypeError\u001B[39;00m(\u001B[38;5;124m\"\u001B[39m\u001B[38;5;132;01m%r\u001B[39;00m\u001B[38;5;124m not str\u001B[39m\u001B[38;5;124m\"\u001B[39m \u001B[38;5;241m%\u001B[39m v)\n",
      "\u001B[0;31mTypeError\u001B[0m: 'APIC' object is not iterable"
     ]
    }
   ],
   "source": [
    "import os\n",
    "get_yt_metadata('https://www.youtube.com/watch?v=i7mEFW25BQ0', '/Users/applelaptop/Downloads/test3.mp3')"
   ]
  },
  {
   "cell_type": "code",
   "execution_count": 5,
   "metadata": {
    "ExecuteTime": {
     "end_time": "2024-03-17T08:39:49.824267Z",
     "start_time": "2024-03-17T08:39:49.821200Z"
    },
    "collapsed": false
   },
   "outputs": [
    {
     "data": {
      "text/plain": [
       "NoneType"
      ]
     },
     "execution_count": 5,
     "metadata": {},
     "output_type": "execute_result"
    }
   ],
   "source": [
    "aud = mutagen.File('/Users/applelaptop/Downloads/test.mp3', easy = False)\n",
    "type(aud.tags)"
   ]
  },
  {
   "cell_type": "code",
   "execution_count": 6,
   "metadata": {
    "ExecuteTime": {
     "end_time": "2024-03-17T08:41:22.948290Z",
     "start_time": "2024-03-17T08:41:22.932456Z"
    },
    "collapsed": false
   },
   "outputs": [
    {
     "ename": "TypeError",
     "evalue": "'NoneType' object does not support item assignment",
     "output_type": "error",
     "traceback": [
      "\u001B[0;31m---------------------------------------------------------------------------\u001B[0m",
      "\u001B[0;31mTypeError\u001B[0m                                 Traceback (most recent call last)",
      "Cell \u001B[0;32mIn[6], line 4\u001B[0m\n\u001B[1;32m      2\u001B[0m temp_ca \u001B[38;5;241m=\u001B[39m \u001B[38;5;124m'\u001B[39m\u001B[38;5;124m/Users/applelaptop/CODE/misc_projs/temp.jpg\u001B[39m\u001B[38;5;124m'\u001B[39m\n\u001B[1;32m      3\u001B[0m \u001B[38;5;28;01mwith\u001B[39;00m \u001B[38;5;28mopen\u001B[39m(temp_ca, \u001B[38;5;124m'\u001B[39m\u001B[38;5;124mrb\u001B[39m\u001B[38;5;124m'\u001B[39m) \u001B[38;5;28;01mas\u001B[39;00m coverart:\n\u001B[0;32m----> 4\u001B[0m     aud\u001B[38;5;241m.\u001B[39mtags[\u001B[38;5;124m'\u001B[39m\u001B[38;5;124mAPIC\u001B[39m\u001B[38;5;124m'\u001B[39m] \u001B[38;5;241m=\u001B[39m APIC(\n\u001B[1;32m      5\u001B[0m         encoding \u001B[38;5;241m=\u001B[39m \u001B[38;5;241m3\u001B[39m,\n\u001B[1;32m      6\u001B[0m         mime \u001B[38;5;241m=\u001B[39m \u001B[38;5;124m'\u001B[39m\u001B[38;5;124mimage/jpeg\u001B[39m\u001B[38;5;124m'\u001B[39m,\n\u001B[1;32m      7\u001B[0m         \u001B[38;5;28mtype\u001B[39m \u001B[38;5;241m=\u001B[39m \u001B[38;5;241m3\u001B[39m,\n\u001B[1;32m      8\u001B[0m         desc \u001B[38;5;241m=\u001B[39m \u001B[38;5;124mu\u001B[39m\u001B[38;5;124m'\u001B[39m\u001B[38;5;124mCover\u001B[39m\u001B[38;5;124m'\u001B[39m,\n\u001B[1;32m      9\u001B[0m         data \u001B[38;5;241m=\u001B[39m coverart\u001B[38;5;241m.\u001B[39mread()\n\u001B[1;32m     10\u001B[0m     )\n",
      "\u001B[0;31mTypeError\u001B[0m: 'NoneType' object does not support item assignment"
     ]
    }
   ],
   "source": [
    "aud = mutagen.File('/Users/applelaptop/Downloads/test.mp3')\n",
    "temp_ca = '/Users/applelaptop/CODE/misc_projs/temp.jpg'\n",
    "with open(temp_ca, 'rb') as coverart:\n",
    "    aud.tags['APIC'] = APIC(\n",
    "        encoding = 3,\n",
    "        mime = 'image/jpeg',\n",
    "        type = 3,\n",
    "        desc = u'Cover',\n",
    "        data = coverart.read()\n",
    "    )"
   ]
  },
  {
   "cell_type": "code",
   "execution_count": 40,
   "metadata": {
    "ExecuteTime": {
     "end_time": "2024-03-17T08:22:46.761123Z",
     "start_time": "2024-03-17T08:22:46.177962Z"
    },
    "collapsed": false
   },
   "outputs": [
    {
     "ename": "TypeError",
     "evalue": "'APIC' object is not iterable",
     "output_type": "error",
     "traceback": [
      "\u001B[0;31m---------------------------------------------------------------------------\u001B[0m",
      "\u001B[0;31mTypeError\u001B[0m                                 Traceback (most recent call last)",
      "Cell \u001B[0;32mIn[40], line 2\u001B[0m\n\u001B[1;32m      1\u001B[0m res \u001B[38;5;241m=\u001B[39m downloader\u001B[38;5;241m.\u001B[39mget_resolved(\u001B[38;5;124m'\u001B[39m\u001B[38;5;124mhttps://soundcloud.com/brg-luvbug/warsong\u001B[39m\u001B[38;5;124m'\u001B[39m)\n\u001B[0;32m----> 2\u001B[0m downloader\u001B[38;5;241m.\u001B[39madd_metadata(res, \u001B[38;5;124m'\u001B[39m\u001B[38;5;124m/Users/applelaptop/Downloads/test3.mp3\u001B[39m\u001B[38;5;124m'\u001B[39m)\n",
      "File \u001B[0;32m~/CODE/misc_projs/soundcloud/raincloud/lib/Downloader.py:86\u001B[0m, in \u001B[0;36mDownloader.add_metadata\u001B[0;34m(self, res, dest)\u001B[0m\n\u001B[1;32m     84\u001B[0m audio \u001B[38;5;241m=\u001B[39m mutagen\u001B[38;5;241m.\u001B[39mFile(dest)\n\u001B[1;32m     85\u001B[0m \u001B[38;5;28;01mwith\u001B[39;00m \u001B[38;5;28mopen\u001B[39m(imgpath, \u001B[38;5;124m'\u001B[39m\u001B[38;5;124mrb\u001B[39m\u001B[38;5;124m'\u001B[39m) \u001B[38;5;28;01mas\u001B[39;00m coverart:\n\u001B[0;32m---> 86\u001B[0m     audio[\u001B[38;5;124m'\u001B[39m\u001B[38;5;124mAPIC\u001B[39m\u001B[38;5;124m'\u001B[39m] \u001B[38;5;241m=\u001B[39m APIC(\n\u001B[1;32m     87\u001B[0m         encoding \u001B[38;5;241m=\u001B[39m \u001B[38;5;241m3\u001B[39m,\n\u001B[1;32m     88\u001B[0m         mime \u001B[38;5;241m=\u001B[39m \u001B[38;5;124m'\u001B[39m\u001B[38;5;124mimage/jpeg\u001B[39m\u001B[38;5;124m'\u001B[39m,\n\u001B[1;32m     89\u001B[0m         \u001B[38;5;28mtype\u001B[39m \u001B[38;5;241m=\u001B[39m \u001B[38;5;241m3\u001B[39m,\n\u001B[1;32m     90\u001B[0m         desc \u001B[38;5;241m=\u001B[39m \u001B[38;5;124mu\u001B[39m\u001B[38;5;124m'\u001B[39m\u001B[38;5;124mCover\u001B[39m\u001B[38;5;124m'\u001B[39m,\n\u001B[1;32m     91\u001B[0m         data \u001B[38;5;241m=\u001B[39m coverart\u001B[38;5;241m.\u001B[39mread()\n\u001B[1;32m     92\u001B[0m     )\n\u001B[1;32m     93\u001B[0m audio\u001B[38;5;241m.\u001B[39msave()\n\u001B[1;32m     95\u001B[0m os\u001B[38;5;241m.\u001B[39mremove(imgpath)\n",
      "File \u001B[0;32m/opt/anaconda3/lib/python3.11/site-packages/mutagen/_file.py:74\u001B[0m, in \u001B[0;36mFileType.__setitem__\u001B[0;34m(self, key, value)\u001B[0m\n\u001B[1;32m     72\u001B[0m \u001B[38;5;28;01mif\u001B[39;00m \u001B[38;5;28mself\u001B[39m\u001B[38;5;241m.\u001B[39mtags \u001B[38;5;129;01mis\u001B[39;00m \u001B[38;5;28;01mNone\u001B[39;00m:\n\u001B[1;32m     73\u001B[0m     \u001B[38;5;28mself\u001B[39m\u001B[38;5;241m.\u001B[39madd_tags()\n\u001B[0;32m---> 74\u001B[0m \u001B[38;5;28mself\u001B[39m\u001B[38;5;241m.\u001B[39mtags[key] \u001B[38;5;241m=\u001B[39m value\n",
      "File \u001B[0;32m/opt/anaconda3/lib/python3.11/site-packages/mutagen/mp4/__init__.py:372\u001B[0m, in \u001B[0;36mMP4Tags.__setitem__\u001B[0;34m(self, key, value)\u001B[0m\n\u001B[1;32m    370\u001B[0m \u001B[38;5;28;01mif\u001B[39;00m \u001B[38;5;129;01mnot\u001B[39;00m \u001B[38;5;28misinstance\u001B[39m(key, \u001B[38;5;28mstr\u001B[39m):\n\u001B[1;32m    371\u001B[0m     \u001B[38;5;28;01mraise\u001B[39;00m \u001B[38;5;167;01mTypeError\u001B[39;00m(\u001B[38;5;124m\"\u001B[39m\u001B[38;5;124mkey has to be str\u001B[39m\u001B[38;5;124m\"\u001B[39m)\n\u001B[0;32m--> 372\u001B[0m \u001B[38;5;28mself\u001B[39m\u001B[38;5;241m.\u001B[39m_render(key, value)\n\u001B[1;32m    373\u001B[0m \u001B[38;5;28msuper\u001B[39m(MP4Tags, \u001B[38;5;28mself\u001B[39m)\u001B[38;5;241m.\u001B[39m\u001B[38;5;21m__setitem__\u001B[39m(key, value)\n",
      "File \u001B[0;32m/opt/anaconda3/lib/python3.11/site-packages/mutagen/mp4/__init__.py:388\u001B[0m, in \u001B[0;36mMP4Tags._render\u001B[0;34m(self, key, value)\u001B[0m\n\u001B[1;32m    385\u001B[0m     render_func \u001B[38;5;241m=\u001B[39m \u001B[38;5;28mtype\u001B[39m(\u001B[38;5;28mself\u001B[39m)\u001B[38;5;241m.\u001B[39m__render_text\n\u001B[1;32m    386\u001B[0m     render_args \u001B[38;5;241m=\u001B[39m []\n\u001B[0;32m--> 388\u001B[0m \u001B[38;5;28;01mreturn\u001B[39;00m render_func(\u001B[38;5;28mself\u001B[39m, key, value, \u001B[38;5;241m*\u001B[39mrender_args)\n",
      "File \u001B[0;32m/opt/anaconda3/lib/python3.11/site-packages/mutagen/mp4/__init__.py:822\u001B[0m, in \u001B[0;36mMP4Tags.__render_text\u001B[0;34m(self, key, value, flags)\u001B[0m\n\u001B[1;32m    819\u001B[0m     value \u001B[38;5;241m=\u001B[39m [value]\n\u001B[1;32m    821\u001B[0m encoded \u001B[38;5;241m=\u001B[39m []\n\u001B[0;32m--> 822\u001B[0m \u001B[38;5;28;01mfor\u001B[39;00m v \u001B[38;5;129;01min\u001B[39;00m value:\n\u001B[1;32m    823\u001B[0m     \u001B[38;5;28;01mif\u001B[39;00m \u001B[38;5;129;01mnot\u001B[39;00m \u001B[38;5;28misinstance\u001B[39m(v, \u001B[38;5;28mstr\u001B[39m):\n\u001B[1;32m    824\u001B[0m         \u001B[38;5;28;01mraise\u001B[39;00m \u001B[38;5;167;01mTypeError\u001B[39;00m(\u001B[38;5;124m\"\u001B[39m\u001B[38;5;132;01m%r\u001B[39;00m\u001B[38;5;124m not str\u001B[39m\u001B[38;5;124m\"\u001B[39m \u001B[38;5;241m%\u001B[39m v)\n",
      "\u001B[0;31mTypeError\u001B[0m: 'APIC' object is not iterable"
     ]
    }
   ],
   "source": [
    "res = downloader.get_resolved('https://soundcloud.com/brg-luvbug/warsong')\n",
    "downloader.add_metadata(res, '/Users/applelaptop/Downloads/test3.mp3')"
   ]
  },
  {
   "cell_type": "markdown",
   "metadata": {
    "collapsed": false
   },
   "source": []
  },
  {
   "cell_type": "code",
   "execution_count": 1,
   "metadata": {
    "collapsed": false,
    "ExecuteTime": {
     "end_time": "2024-03-17T08:56:15.932934Z",
     "start_time": "2024-03-17T08:56:12.683010Z"
    }
   },
   "outputs": [],
   "source": [
    "from tkinter import filedialog\n",
    "filetypes = (\n",
    "    ('mp3 (audio only)', '*.mp3'),\n",
    "    ('mp4 (video + audio)', '*.mp4'),\n",
    ")\n",
    "dest = filedialog.asksaveasfilename(defaultextension='.mp3', filetypes = filetypes)"
   ]
  },
  {
   "cell_type": "code",
   "execution_count": 2,
   "metadata": {
    "collapsed": false,
    "ExecuteTime": {
     "end_time": "2024-03-17T08:56:17.586479Z",
     "start_time": "2024-03-17T08:56:17.582655Z"
    }
   },
   "outputs": [
    {
     "data": {
      "text/plain": "'.mp3'"
     },
     "execution_count": 2,
     "metadata": {},
     "output_type": "execute_result"
    }
   ],
   "source": [
    "dest[-4:]"
   ]
  },
  {
   "cell_type": "code",
   "execution_count": null,
   "metadata": {
    "collapsed": false
   },
   "outputs": [],
   "source": []
  }
 ],
 "metadata": {
  "kernelspec": {
   "display_name": "base",
   "language": "python",
   "name": "python3"
  },
  "language_info": {
   "codemirror_mode": {
    "name": "ipython",
    "version": 3
   },
   "file_extension": ".py",
   "mimetype": "text/x-python",
   "name": "python",
   "nbconvert_exporter": "python",
   "pygments_lexer": "ipython3",
   "version": "3.11.7"
  }
 },
 "nbformat": 4,
 "nbformat_minor": 2
}
