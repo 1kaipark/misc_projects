{
 "cells": [
  {
   "cell_type": "code",
   "execution_count": 1,
   "metadata": {},
   "outputs": [],
   "source": [
    "client_id = \"e5a7fb4e507f4b83a942647e75961e84\"\n",
    "client_secret = \"bea3ad93c3a64d34acf4fe4410fdeb5c\""
   ]
  },
  {
   "cell_type": "markdown",
   "metadata": {},
   "source": [
    "# core"
   ]
  },
  {
   "cell_type": "markdown",
   "metadata": {},
   "source": [
    "## universal imports n methods"
   ]
  },
  {
   "cell_type": "code",
   "execution_count": 2,
   "metadata": {},
   "outputs": [],
   "source": [
    "import base64\n",
    "import requests\n",
    "import json\n"
   ]
  },
  {
   "cell_type": "markdown",
   "metadata": {},
   "source": [
    "## run this for no flask -- can't do user shit"
   ]
  },
  {
   "cell_type": "code",
   "execution_count": 3,
   "metadata": {},
   "outputs": [],
   "source": [
    "\n",
    "def get_token():\n",
    "    auth_string = f\"{client_id}:{client_secret}\"\n",
    "    auth_bytes = auth_string.encode(\"utf-8\")\n",
    "    auth_base64 = str(base64.b64encode(auth_bytes), \"utf-8\")\n",
    "\n",
    "    url = \"https://accounts.spotify.com/api/token\"\n",
    "    headers = {\n",
    "        \"Authorization\" : \"Basic \" + auth_base64,\n",
    "        \"Content-Type\" : \"application/x-www-form-urlencoded\",\n",
    "    }\n",
    "    data = {\n",
    "        \"grant_type\" : \"client_credentials\"\n",
    "    }\n",
    "\n",
    "    result = requests.post(url, headers = headers, data = data)\n",
    "    json_result = json.loads(result.content)\n",
    "    return json_result['access_token']\n",
    "\n",
    "def get_auth_header(token):\n",
    "    return {\"Authorization\" : \"Bearer \" + token}\n",
    "\n",
    "# COMMON VARIABLES\n",
    "ub_url = \"https://api.spotify.com/v1\""
   ]
  },
  {
   "cell_type": "code",
   "execution_count": 4,
   "metadata": {},
   "outputs": [],
   "source": [
    "token = get_token()"
   ]
  },
  {
   "cell_type": "markdown",
   "metadata": {},
   "source": [
    "## run this when flask is also running - can do user shit"
   ]
  },
  {
   "cell_type": "code",
   "execution_count": 25,
   "metadata": {},
   "outputs": [],
   "source": [
    "from urllib.parse import quote\n",
    "import webbrowser\n",
    "\n",
    "redirect_uri = \"http://localhost:8888/callback\"\n",
    "\n",
    "def get_authcode():\n",
    "    encoded_rduri = quote(redirect_uri)\n",
    "\n",
    "    scopes = [\n",
    "        \"user-follow-read\",\n",
    "        \"user-top-read\",\n",
    "        \"user-read-private\",\n",
    "        \"user-read-email\"\n",
    "    ]\n",
    "\n",
    "\n",
    "    encoded_scopes = quote((' '.join(scopes)).strip())\n",
    "\n",
    "    auth_url = f\"https://accounts.spotify.com/authorize?client_id={client_id}&response_type=code&redirect_uri={encoded_rduri}&scope={encoded_scopes}\"\n",
    "    webbrowser.open(auth_url)\n",
    "\n",
    "    print(\"After granting permission, you will be redirected to your redirect URI with a code in the query string.\")\n",
    "    print(\"Paste the full redirect URI here: \")\n",
    "    redirected_uri = input()\n",
    "\n",
    "    # Extract the code from the redirected URI\n",
    "    code = redirected_uri.split(\"code=\")[1].split(\"&\")[0]\n",
    "\n",
    "    return code\n",
    "\n",
    "def get_token_authcode(code):\n",
    "    auth_string = f\"{client_id}:{client_secret}\"\n",
    "    auth_bytes = auth_string.encode(\"utf-8\")\n",
    "    auth_base64 = str(base64.b64encode(auth_bytes), \"utf-8\")\n",
    "\n",
    "    url = \"https://accounts.spotify.com/api/token\"\n",
    "    headers = {\n",
    "        \"Authorization\" : \"Basic \" + auth_base64,\n",
    "        \"Content-Type\" : \"application/x-www-form-urlencoded\",\n",
    "    }\n",
    "    data = {\n",
    "        \"grant_type\" : \"authorization_code\",\n",
    "        \"code\": code,\n",
    "        \"redirect_uri\" : redirect_uri\n",
    "    }\n",
    "    result = requests.post(url, headers = headers, data = data)\n",
    "    json_result = result.json()\n",
    "    return json_result['access_token']"
   ]
  },
  {
   "cell_type": "code",
   "execution_count": 5,
   "metadata": {},
   "outputs": [
    {
     "ename": "NameError",
     "evalue": "name 'get_authcode' is not defined",
     "output_type": "error",
     "traceback": [
      "\u001b[0;31m---------------------------------------------------------------------------\u001b[0m",
      "\u001b[0;31mNameError\u001b[0m                                 Traceback (most recent call last)",
      "Cell \u001b[0;32mIn[5], line 2\u001b[0m\n\u001b[1;32m      1\u001b[0m ub_url \u001b[38;5;241m=\u001b[39m \u001b[38;5;124m\"\u001b[39m\u001b[38;5;124mhttps://api.spotify.com/v1\u001b[39m\u001b[38;5;124m\"\u001b[39m\n\u001b[0;32m----> 2\u001b[0m code \u001b[38;5;241m=\u001b[39m get_authcode()\n\u001b[1;32m      3\u001b[0m token \u001b[38;5;241m=\u001b[39m get_token_authcode(code)\n",
      "\u001b[0;31mNameError\u001b[0m: name 'get_authcode' is not defined"
     ]
    }
   ],
   "source": [
    "ub_url = \"https://api.spotify.com/v1\"\n",
    "code = get_authcode()\n",
    "token = get_token_authcode(code)\n"
   ]
  },
  {
   "cell_type": "markdown",
   "metadata": {},
   "source": [
    "## funsies (2nd order functions lmao)"
   ]
  },
  {
   "cell_type": "code",
   "execution_count": 6,
   "metadata": {},
   "outputs": [],
   "source": [
    "def search_for_artist(token, artist_name):\n",
    "    url = f\"{ub_url}/search\"\n",
    "    headers = get_auth_header(token)\n",
    "    query = f\"?q={artist_name}&type=artist&limit=1\" # limit=1 -- first result only\n",
    "\n",
    "    query_url = f\"{url}{query}\"\n",
    "\n",
    "    result = requests.get(query_url, headers = headers)\n",
    "    json_result = result.json()[\"artists\"][\"items\"]\n",
    "\n",
    "    if len(json_result) == 0:\n",
    "        print(\"search failed bitch\")\n",
    "        return None\n",
    "    return json_result[0]\n",
    "    \n",
    "\n",
    "def get_songs_by_artist(token, artist_id):\n",
    "    url = f\"{ub_url}/artists/{artist_id}/top-tracks?country=US\"\n",
    "    headers = get_auth_header(token)\n",
    "    result = requests.get(url, headers = headers)\n",
    "    json_result = result.json()[\"tracks\"]\n",
    "    return json_result\n",
    "\n",
    "def search_for_track(token, track_name):\n",
    "    url = f\"{ub_url}/search\"\n",
    "    headers = get_auth_header(token)\n",
    "    query = f\"?q={track_name}&type=track&limit=1\"\n",
    "    query_url = f\"{url}{query}\"\n",
    "\n",
    "    result = requests.get(query_url, headers = headers)\n",
    "    json_result = result.json()\n",
    "    return json_result['tracks']['items'][0]\n",
    "\n",
    "\n",
    "def get_track_audio_features(token, track_id):\n",
    "    url = f\"{ub_url}/audio-features/{track_id}\"\n",
    "    headers = get_auth_header(token)\n",
    "    result = requests.get(url, headers = headers)\n",
    "    json_result = result.json()\n",
    "    return json_result\n"
   ]
  },
  {
   "cell_type": "markdown",
   "metadata": {},
   "source": [
    "## \"3rd order functions\" xD"
   ]
  },
  {
   "cell_type": "code",
   "execution_count": 7,
   "metadata": {},
   "outputs": [],
   "source": [
    "def get_bpm_key(token, track_id):\n",
    "    audio_features = get_track_audio_features(token, track_id)\n",
    "    bpm = audio_features['tempo']\n",
    "\n",
    "    key_pitch_class = audio_features['key']\n",
    "    to_notes = {\n",
    "        0: \"C\",\n",
    "        1: \"C#/Db\",\n",
    "        2: \"D\",\n",
    "        3: \"D#/Eb\",\n",
    "        4: \"E\",\n",
    "        5: \"F\",\n",
    "        6: \"F#/Gb\",\n",
    "        7: \"G\",\n",
    "        8: \"G#/Ab\",\n",
    "        9: \"A\",\n",
    "        10: \"A#/Bb\",\n",
    "        11: \"B\"\n",
    "    }\n",
    "    key = to_notes.get(key_pitch_class)\n",
    "\n",
    "    return bpm, key"
   ]
  },
  {
   "cell_type": "markdown",
   "metadata": {},
   "source": [
    "* ideas: "
   ]
  },
  {
   "cell_type": "markdown",
   "metadata": {},
   "source": [
    "# TEMPLATE"
   ]
  },
  {
   "cell_type": "markdown",
   "metadata": {},
   "source": [
    "# REAL PLAYGROUND"
   ]
  },
  {
   "cell_type": "markdown",
   "metadata": {},
   "source": [
    "## get key and bpm"
   ]
  },
  {
   "cell_type": "code",
   "execution_count": 8,
   "metadata": {},
   "outputs": [
    {
     "name": "stdout",
     "output_type": "stream",
     "text": [
      "Bags : 104.996 BPM C#/Db\n"
     ]
    }
   ],
   "source": [
    "trackres = search_for_track(token, input(\"song? \"))\n",
    "id = trackres['id']\n",
    "name = trackres['name']\n",
    "\n",
    "bpm, key = get_bpm_key(token, id)\n",
    "print(f\"{name} : {bpm} BPM {key}\")"
   ]
  },
  {
   "cell_type": "code",
   "execution_count": 10,
   "metadata": {},
   "outputs": [],
   "source": [
    "# https://developer.spotify.com/documentation/web-api/reference/get-recommendations"
   ]
  },
  {
   "cell_type": "code",
   "execution_count": 9,
   "metadata": {},
   "outputs": [
    {
     "data": {
      "text/plain": [
       "{'danceability': 0.742,\n",
       " 'energy': 0.546,\n",
       " 'key': 1,\n",
       " 'loudness': -7.694,\n",
       " 'mode': 1,\n",
       " 'speechiness': 0.0315,\n",
       " 'acousticness': 0.172,\n",
       " 'instrumentalness': 0.38,\n",
       " 'liveness': 0.115,\n",
       " 'valence': 0.868,\n",
       " 'tempo': 104.996,\n",
       " 'type': 'audio_features',\n",
       " 'id': '6X3FZtz4cKU2MKSQlGG9ZG',\n",
       " 'uri': 'spotify:track:6X3FZtz4cKU2MKSQlGG9ZG',\n",
       " 'track_href': 'https://api.spotify.com/v1/tracks/6X3FZtz4cKU2MKSQlGG9ZG',\n",
       " 'analysis_url': 'https://api.spotify.com/v1/audio-analysis/6X3FZtz4cKU2MKSQlGG9ZG',\n",
       " 'duration_ms': 260520,\n",
       " 'time_signature': 4}"
      ]
     },
     "execution_count": 9,
     "metadata": {},
     "output_type": "execute_result"
    }
   ],
   "source": [
    "get_track_audio_features(token, id)"
   ]
  },
  {
   "cell_type": "code",
   "execution_count": null,
   "metadata": {},
   "outputs": [],
   "source": [
    "def template(token):\n",
    "    # the url to send requests.get to\n",
    "    url = f\"{ub_url}/audio-features/2TmqHjg7uhizGndzXQdFuf\"\n",
    "\n",
    "    # headers\n",
    "    headers = get_auth_header(token)\n",
    "\n",
    "    # the requests.get\n",
    "    result = requests.get(url, headers = headers)\n",
    "\n",
    "    #json code and return\n",
    "    json_result = result.json()\n",
    "    return json_result\n",
    "    "
   ]
  },
  {
   "cell_type": "markdown",
   "metadata": {},
   "source": [
    "# USER CONTENT"
   ]
  },
  {
   "cell_type": "code",
   "execution_count": 27,
   "metadata": {},
   "outputs": [],
   "source": [
    "def get_top_tracks(token, limit, sml):\n",
    "    timerange = \"short_term\" if sml.lower() == 's' else \"medium_term\" if sml.lower() == 'm' else \"long_term\"\n",
    "    url = f\"{ub_url}/me/top/tracks?limit={limit}&time_range={timerange}\"\n",
    "    headers = get_auth_header(token)\n",
    "    result = requests.get(url, headers = headers)\n",
    "    json_result = result.json()\n",
    "    return json_result\n",
    "\n",
    "def get_top_artists(token, limit, sml):\n",
    "    timerange = \"short_term\" if sml.lower() == 's' else \"medium_term\" if sml.lower() == 'm' else \"long_term\"\n",
    "    url = f\"{ub_url}/me/top/artists?limit={limit}&time_range={timerange}\"\n",
    "    headers = get_auth_header(token)\n",
    "    result = requests.get(url, headers = headers)\n",
    "    json_result = result.json()\n",
    "    return json_result"
   ]
  },
  {
   "cell_type": "code",
   "execution_count": 29,
   "metadata": {},
   "outputs": [
    {
     "name": "stdout",
     "output_type": "stream",
     "text": [
      "{'error': {'status': 400, 'message': 'Invalid time range'}}\n"
     ]
    }
   ],
   "source": [
    "print(tt)"
   ]
  },
  {
   "cell_type": "code",
   "execution_count": 30,
   "metadata": {},
   "outputs": [
    {
     "name": "stdout",
     "output_type": "stream",
     "text": [
      "1. dose - hidden track (pxe)\n",
      "2. Ginseng - M16\n",
      "3. my bloody valentine - Off Your Face\n",
      "4. Sickboyrari - Edward Scissorhandz\n",
      "5. my bloody valentine - thorn\n",
      "6. LSD and the Search for God - This Time\n",
      "7. Bladee - Requiem\n",
      "8. my bloody valentine - good for you\n",
      "9. Deftones - Rx Queen\n",
      "10. Kiryano - Emo Plugg\n",
      "11. RXKNephew - Take Three\n",
      "12. Mazzy Star - Be My Angel\n",
      "13. my bloody valentine - emptiness inside\n",
      "14. The Smashing Pumpkins - The Boy\n",
      "15. my bloody valentine - cigarette in your bed\n",
      "16. Mojave 3 - Love Songs on the Radio\n",
      "17. The Sundays - Goodbye\n",
      "18. julie - flutter\n",
      "19. Sonic Youth - Unmade Bed\n",
      "20. Elliott Smith - Say Yes\n",
      "21. Rooster - Rented Starship\n",
      "22. Cocteau Twins - Fotzepolitic\n",
      "23. RXKNephew - Skyline Tony Too Good\n",
      "24. Varg²™ Thaiboy Digital - Hitty\n",
      "25. Blue Smiley - dark\n",
      "26. The Smashing Pumpkins - Luna - 2011 Remaster\n",
      "27. Starflyer 59 - Do You Ever Feel This Way - Gold Album Version\n",
      "28. my bloody valentine - if i am\n",
      "29. Sonic Youth - Shadow of a Doubt\n",
      "30. RXKNephew - Rxk Please Hurt Me\n",
      "31. Thaiboy Digital Bladee Ecco2k - You Lose\n",
      "32. Jimi Hendrix - Bold as Love\n",
      "33. The Smashing Pumpkins - Pennies - Remastered 2012\n",
      "34. beabadoobee - Talk\n",
      "35. Pavement - Date w/ IKEA\n",
      "36. Ringo Deathstarr - Gazin\n",
      "37. Deftones - Please Please Please Let Me Get What I Want - 2005 Remaster\n",
      "38. julie - kit\n",
      "39. my bloody valentine - To Here Knows When\n",
      "40. RXKNephew - American tterroristt\n",
      "41. my bloody valentine - angel\n",
      "42. Jimi Hendrix - Little Wing\n",
      "43. The Smashing Pumpkins - Sweet Sweet - 2011 Remaster\n",
      "44. Elliott Smith - Bled White\n",
      "45. Kiryano - booted up\n",
      "46. Sheena Ringo - 病床パブリック\n",
      "47. jaysrevenge - I cant stop\n",
      "48. Hole - Violet\n",
      "49. Nirvana - Aneurysm\n",
      "50. Sheena Ringo - ギブス\n"
     ]
    }
   ],
   "source": [
    "tt = get_top_tracks(token, 50, \"short_term\")\n",
    "\n",
    "for idx, t in enumerate(tt['items']):\n",
    "    artists = []\n",
    "    for i in t['album']['artists']:\n",
    "        artists.append(i['name'])\n",
    "    print(f\"{idx + 1}. {' '.join(artists[n] for n, _ in enumerate(artists))} - {t['name']}\")"
   ]
  },
  {
   "cell_type": "code",
   "execution_count": 13,
   "metadata": {},
   "outputs": [
    {
     "name": "stdout",
     "output_type": "stream",
     "text": [
      "1. Sonic Youth\n",
      "2. Bladee\n",
      "3. LUCKI\n",
      "4. Sickboyrari\n",
      "5. my bloody valentine\n",
      "6. Yung Lean\n",
      "7. Title Fight\n",
      "8. Kiryano\n",
      "9. RXKNephew\n",
      "10. beabadoobee\n",
      "11. Parannoul\n",
      "12. Crystal Castles\n",
      "13. Panchiko\n",
      "14. meat computer\n",
      "15. d1v\n",
      "16. Drain Gang Archive\n",
      "17. BETWEEN FRIENDS\n",
      "18. Snow Strippers\n",
      "19. Slow Pulp\n",
      "20. A$AP Rocky\n",
      "21. Yves Tumor\n",
      "22. Drop Nineteens\n",
      "23. The Smashing Pumpkins\n",
      "24. Blue Smiley\n",
      "25. Chinese Football\n",
      "26. Thaiboy Digital\n",
      "27. Larry June\n",
      "28. Hole\n",
      "29. Macabre Plaza\n",
      "30. PinkPantheress\n",
      "31. what is your name?\n",
      "32. Ecco2k\n",
      "33. BBY GOYARD\n",
      "34. Earl Sweatshirt\n",
      "35. Hardrock\n",
      "36. Della Zyr\n",
      "37. yeule\n",
      "38. J Dilla\n",
      "39. UnoTheActivist\n",
      "40. Nujabes\n",
      "41. Xavier Wulf\n",
      "42. Starflyer 59\n",
      "43. Pale Saints\n",
      "44. Men I Trust\n",
      "45. Sampha\n",
      "46. Jeff Rosenstock\n",
      "47. The Cure\n",
      "48. Asian Glow\n",
      "49. The Sundays\n",
      "50. Pity Sex\n"
     ]
    }
   ],
   "source": [
    "ta = get_top_artists(token, 50)\n",
    "\n",
    "for idx, t in enumerate(ta['items']):\n",
    "    print(f\"{idx + 1}. {t['name']}\")"
   ]
  },
  {
   "cell_type": "code",
   "execution_count": 12,
   "metadata": {},
   "outputs": [
    {
     "ename": "KeyError",
     "evalue": "'access_token'",
     "output_type": "error",
     "traceback": [
      "\u001b[0;31m---------------------------------------------------------------------------\u001b[0m",
      "\u001b[0;31mKeyError\u001b[0m                                  Traceback (most recent call last)",
      "Cell \u001b[0;32mIn[12], line 3\u001b[0m\n\u001b[1;32m      1\u001b[0m an_authcode \u001b[38;5;241m=\u001b[39m \u001b[38;5;124m\"\u001b[39m\u001b[38;5;124mAQAsBWqSuPgu6xI16r1t8mYvvG9wM68bGaacts6w4oGh2RNw87--6Kytzed0_Q7SNDTsm8Yulr3v7u2DX3JDwo25LyOV1UBQSQYz9RgFPiCjHELZViMRUXBNHOcLn7q2035teGOy-5zniIfKgQC_saUD_YWteeVZ4MGXesTJSjn-gL6lHmMCgxkUfEg6tE-765ddasIoq4WYP4Jn_dv-eZBP5SVuQ87WGvab26uUWe8gMSAvaInfBqYiTAZkml-IYTrbKhrBxg\u001b[39m\u001b[38;5;124m\"\u001b[39m\n\u001b[0;32m----> 3\u001b[0m token \u001b[38;5;241m=\u001b[39m \u001b[43mget_token_authcode\u001b[49m\u001b[43m(\u001b[49m\u001b[43man_authcode\u001b[49m\u001b[43m)\u001b[49m\n",
      "Cell \u001b[0;32mIn[4], line 48\u001b[0m, in \u001b[0;36mget_token_authcode\u001b[0;34m(code)\u001b[0m\n\u001b[1;32m     46\u001b[0m result \u001b[38;5;241m=\u001b[39m requests\u001b[38;5;241m.\u001b[39mpost(url, headers \u001b[38;5;241m=\u001b[39m headers, data \u001b[38;5;241m=\u001b[39m data)\n\u001b[1;32m     47\u001b[0m json_result \u001b[38;5;241m=\u001b[39m result\u001b[38;5;241m.\u001b[39mjson()\n\u001b[0;32m---> 48\u001b[0m \u001b[38;5;28;01mreturn\u001b[39;00m \u001b[43mjson_result\u001b[49m\u001b[43m[\u001b[49m\u001b[38;5;124;43m'\u001b[39;49m\u001b[38;5;124;43maccess_token\u001b[39;49m\u001b[38;5;124;43m'\u001b[39;49m\u001b[43m]\u001b[49m\n",
      "\u001b[0;31mKeyError\u001b[0m: 'access_token'"
     ]
    }
   ],
   "source": [
    "\n",
    "an_authcode = \"AQAsBWqSuPgu6xI16r1t8mYvvG9wM68bGaacts6w4oGh2RNw87--6Kytzed0_Q7SNDTsm8Yulr3v7u2DX3JDwo25LyOV1UBQSQYz9RgFPiCjHELZViMRUXBNHOcLn7q2035teGOy-5zniIfKgQC_saUD_YWteeVZ4MGXesTJSjn-gL6lHmMCgxkUfEg6tE-765ddasIoq4WYP4Jn_dv-eZBP5SVuQ87WGvab26uUWe8gMSAvaInfBqYiTAZkml-IYTrbKhrBxg\"\n",
    "\n",
    "token = get_token_authcode(an_authcode)"
   ]
  },
  {
   "cell_type": "code",
   "execution_count": 12,
   "metadata": {},
   "outputs": [
    {
     "name": "stdout",
     "output_type": "stream",
     "text": [
      "After granting permission, you will be redirected to your redirect URI with a code in the query string.\n",
      "Paste the full redirect URI here: \n"
     ]
    }
   ],
   "source": [
    "code = get_authcode()"
   ]
  },
  {
   "cell_type": "code",
   "execution_count": 10,
   "metadata": {},
   "outputs": [
    {
     "name": "stdout",
     "output_type": "stream",
     "text": [
      "Involved - James Ivy\n",
      "Be Nice 2 Me - Bladee\n",
      "Strip Club Music - KE4T\n",
      "Windows - No Rome Remix - A. G. Cook\n",
      "Ivy - IdiOtBuRNs\n",
      "One Last Time - Ariana Grande\n",
      "Just for Me - PinkPantheress\n",
      "Sick - James Ivy\n",
      "Ivy - IdiOtBuRNs\n",
      "Ivy - IdiOtBuRNs\n",
      "Texas - James Ivy\n",
      "10,000 Reasons (Bless The Lord) [Radio Version] - Radio Version/Live - Matt Redman\n",
      "XO Tour Llif3 - Lil Uzi Vert\n",
      "Summer Rain - Woesum\n",
      "Demons - Weiland\n",
      "Nijiko (Tiny Piano) - Masakatsu Takagi\n",
      "Bottle of Wine (Mono 45 Mix) - Jimmy Gilmer & The Fireballs\n",
      "Under My Skin - Nate Smith\n",
      "You Hear Colours - CFCF\n",
      "ANDREW TATE ON DISCIPLINE - Motivation Hub\n",
      "moment - Vierre Cloud\n",
      "Games of Hide and Seek - Jimmy Sky\n",
      "Killing Me - Waynewood\n",
      "My God Is Number One - Yancy\n"
     ]
    }
   ],
   "source": [
    "p = '''James Ivy - Birthday\n",
    "Bladee & Mechatok - God (Evian Christ Remix) [Kelsey Park Edit]\n",
    "454 - THEY KNOW\n",
    "A.G Cook - Windows (No Rome Remix)\n",
    "James Ivy - ID\n",
    "@jimmy2_ - one last time <3\n",
    "PinkPantheress - Just For Me\n",
    "James Ivy & Wavedash - ID\n",
    "James Ivy - ID\n",
    "James Ivy - ID\n",
    "James Ivy - Texas (Early Demo Version)\n",
    "1000000000s - Effective Dream\n",
    "Lil Uzi Vert - Run It Up\n",
    "Woesum & Glasear - Notice Me\n",
    "Weiland - Cry\n",
    "Nijiko - Tinypiano\n",
    "@jimmy2_ - fireball\n",
    "Emotegi - Under My Skin (James Ivy Blink Redo)\n",
    "CFCF - Punk Song\n",
    "Andrew Todd - Welcome2\n",
    "vierre cloud - moment\n",
    "@jimmy2_ - hide n seek\n",
    "James Ivy - My God! It's Killing Me\n",
    "James Ivy - My God! It's Killing Me (Reprise)'''\n",
    "\n",
    "l = p.split('\\n')\n",
    "\n",
    "for song in l:\n",
    "    tr = search_for_track(token, song)\n",
    "    print(f\"{tr['name']} - {tr['artists'][0]['name']}\")"
   ]
  },
  {
   "cell_type": "code",
   "execution_count": null,
   "metadata": {},
   "outputs": [],
   "source": []
  }
 ],
 "metadata": {
  "kernelspec": {
   "display_name": "base",
   "language": "python",
   "name": "python3"
  },
  "language_info": {
   "codemirror_mode": {
    "name": "ipython",
    "version": 3
   },
   "file_extension": ".py",
   "mimetype": "text/x-python",
   "name": "python",
   "nbconvert_exporter": "python",
   "pygments_lexer": "ipython3",
   "version": "3.11.7"
  }
 },
 "nbformat": 4,
 "nbformat_minor": 2
}
