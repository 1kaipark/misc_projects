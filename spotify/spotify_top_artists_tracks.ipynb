{
 "cells": [
  {
   "cell_type": "markdown",
   "metadata": {},
   "source": [
    "# paste this into command line\n",
    "* cd {SPOTIFY FOLDER DIR}\n",
    "* python3 phlask.py"
   ]
  },
  {
   "cell_type": "code",
   "execution_count": 6,
   "metadata": {},
   "outputs": [
    {
     "name": "stdout",
     "output_type": "stream",
     "text": [
      "After granting permission, you will be redirected to your redirect URI with a code in the query string.\n",
      "Paste the full redirect URI here: \n"
     ]
    }
   ],
   "source": [
    "client_id = \"e5a7fb4e507f4b83a942647e75961e84\"\n",
    "client_secret = \"bea3ad93c3a64d34acf4fe4410fdeb5c\"\n",
    "\n",
    "import base64\n",
    "import requests\n",
    "import json\n",
    "from urllib.parse import quote\n",
    "import webbrowser\n",
    "\n",
    "redirect_uri = \"http://localhost:8888/callback\"\n",
    "\n",
    "def get_authcode():\n",
    "    encoded_rduri = quote(redirect_uri)\n",
    "\n",
    "    scopes = [\n",
    "        \"user-follow-read\",\n",
    "        \"user-top-read\",\n",
    "        \"user-read-private\",\n",
    "        \"user-read-email\"\n",
    "    ]\n",
    "\n",
    "\n",
    "    encoded_scopes = quote((' '.join(scopes)).strip())\n",
    "\n",
    "    auth_url = f\"https://accounts.spotify.com/authorize?client_id={client_id}&response_type=code&redirect_uri={encoded_rduri}&scope={encoded_scopes}\"\n",
    "    webbrowser.open(auth_url)\n",
    "\n",
    "    print(\"After granting permission, you will be redirected to your redirect URI with a code in the query string.\")\n",
    "    print(\"Paste the full redirect URI here: \")\n",
    "    redirected_uri = input()\n",
    "\n",
    "    # Extract the code from the redirected URI\n",
    "    code = redirected_uri.split(\"code=\")[1].split(\"&\")[0]\n",
    "\n",
    "    return code\n",
    "\n",
    "def get_token(code):\n",
    "    auth_string = f\"{client_id}:{client_secret}\"\n",
    "    auth_bytes = auth_string.encode(\"utf-8\")\n",
    "    auth_base64 = str(base64.b64encode(auth_bytes), \"utf-8\")\n",
    "\n",
    "    url = \"https://accounts.spotify.com/api/token\"\n",
    "    headers = {\n",
    "        \"Authorization\" : \"Basic \" + auth_base64,\n",
    "        \"Content-Type\" : \"application/x-www-form-urlencoded\",\n",
    "    }\n",
    "    data = {\n",
    "        \"grant_type\" : \"authorization_code\",\n",
    "        \"code\": code,\n",
    "        \"redirect_uri\" : redirect_uri\n",
    "    }\n",
    "    result = requests.post(url, headers = headers, data = data)\n",
    "    json_result = result.json()\n",
    "    return json_result['access_token']\n",
    "\n",
    "# COMMON VARIABLES\n",
    "ub_url = \"https://api.spotify.com/v1\"\n",
    "code = get_authcode()\n",
    "token = get_token(code)\n",
    "\n",
    "def get_auth_header(token):\n",
    "    return {\"Authorization\" : \"Bearer \" + token}\n",
    "\n",
    "\n",
    "# METHoDS\n",
    "def get_top_tracks(token, limit, sml):\n",
    "    timerange = \"short_term\" if sml.lower() == 's' else \"medium_term\" if sml.lower() == 'm' else \"long_term\"\n",
    "    url = f\"{ub_url}/me/top/tracks?limit={limit}&time_range={timerange}\"\n",
    "    headers = get_auth_header(token)\n",
    "    result = requests.get(url, headers = headers)\n",
    "    json_result = result.json()\n",
    "    return json_result\n",
    "\n",
    "def get_top_artists(token, limit, sml):\n",
    "    timerange = \"short_term\" if sml.lower() == 's' else \"medium_term\" if sml.lower() == 'm' else \"long_term\"\n",
    "    url = f\"{ub_url}/me/top/artists?limit={limit}&time_range={timerange}\"\n",
    "    headers = get_auth_header(token)\n",
    "    result = requests.get(url, headers = headers)\n",
    "    json_result = result.json()\n",
    "    return json_result"
   ]
  },
  {
   "cell_type": "markdown",
   "metadata": {},
   "source": [
    "# TOP TRACKS"
   ]
  },
  {
   "cell_type": "code",
   "execution_count": 10,
   "metadata": {},
   "outputs": [],
   "source": [
    "lim = int(input(\"limit (how many tracks/artists?)\").strip())\n",
    "timescale = input(\"time frame: 's' for 1 month, 'm' for 6 months, 'l' for 1 year +:\")\n"
   ]
  },
  {
   "cell_type": "code",
   "execution_count": 11,
   "metadata": {},
   "outputs": [
    {
     "name": "stdout",
     "output_type": "stream",
     "text": [
      "1. dose - hidden track (pxe)\n",
      "2. Ginseng - M16\n",
      "3. my bloody valentine - Off Your Face\n",
      "4. Sickboyrari - Edward Scissorhandz\n",
      "5. my bloody valentine - thorn\n",
      "6. LSD and the Search for God - This Time\n",
      "7. Bladee - Requiem\n",
      "8. my bloody valentine - good for you\n",
      "9. Deftones - Rx Queen\n",
      "10. Kiryano - Emo Plugg\n",
      "11. RXKNephew - Take Three\n",
      "12. Mazzy Star - Be My Angel\n",
      "13. my bloody valentine - emptiness inside\n",
      "14. The Smashing Pumpkins - The Boy\n",
      "15. my bloody valentine - cigarette in your bed\n",
      "16. Mojave 3 - Love Songs on the Radio\n",
      "17. The Sundays - Goodbye\n",
      "18. julie - flutter\n",
      "19. Sonic Youth - Unmade Bed\n",
      "20. Elliott Smith - Say Yes\n",
      "21. Rooster - Rented Starship\n",
      "22. Cocteau Twins - Fotzepolitic\n",
      "23. RXKNephew - Skyline Tony Too Good\n",
      "24. Varg²™ Thaiboy Digital - Hitty\n",
      "25. Blue Smiley - dark\n",
      "26. The Smashing Pumpkins - Luna - 2011 Remaster\n",
      "27. Starflyer 59 - Do You Ever Feel This Way - Gold Album Version\n",
      "28. my bloody valentine - if i am\n",
      "29. Sonic Youth - Shadow of a Doubt\n",
      "30. RXKNephew - Rxk Please Hurt Me\n"
     ]
    }
   ],
   "source": [
    "tt = get_top_tracks(token, lim, timescale)\n",
    "\n",
    "for idx, t in enumerate(tt['items']):\n",
    "    artists = []\n",
    "    for i in t['album']['artists']:\n",
    "        artists.append(i['name'])\n",
    "    print(f\"{idx + 1}. {' '.join(artists[n] for n, _ in enumerate(artists))} - {t['name']}\")"
   ]
  },
  {
   "cell_type": "markdown",
   "metadata": {},
   "source": [
    "# TOP ARTISTS"
   ]
  },
  {
   "cell_type": "code",
   "execution_count": 13,
   "metadata": {},
   "outputs": [
    {
     "name": "stdout",
     "output_type": "stream",
     "text": [
      "1. my bloody valentine\n",
      "2. RXKNephew\n",
      "3. The Smashing Pumpkins\n",
      "4. Bladee\n",
      "5. Deftones\n",
      "6. Sonic Youth\n",
      "7. Sickboyrari\n",
      "8. Larry June\n",
      "9. Jimi Hendrix\n",
      "10. LUCKI\n",
      "11. dose\n",
      "12. Yeat\n",
      "13. Sheena Ringo\n",
      "14. Slowdive\n",
      "15. Cocteau Twins\n",
      "16. beabadoobee\n",
      "17. Yung Lean\n",
      "18. Blue Smiley\n",
      "19. Snow Strippers\n",
      "20. Ecco2k\n",
      "21. The Garden\n",
      "22. MISOGI\n",
      "23. Crystal Castles\n",
      "24. Kiryano\n",
      "25. BBY GOYARD\n",
      "26. Panchiko\n",
      "27. Starflyer 59\n",
      "28. Thaiboy Digital\n",
      "29. Lush\n",
      "30. DJmegan23\n"
     ]
    }
   ],
   "source": [
    "ta = get_top_artists(token, lim, timescale)\n",
    "\n",
    "for idx, t in enumerate(ta['items']):\n",
    "    print(f\"{idx + 1}. {t['name']}\")"
   ]
  },
  {
   "cell_type": "code",
   "execution_count": null,
   "metadata": {},
   "outputs": [],
   "source": []
  }
 ],
 "metadata": {
  "kernelspec": {
   "display_name": "base",
   "language": "python",
   "name": "python3"
  },
  "language_info": {
   "codemirror_mode": {
    "name": "ipython",
    "version": 3
   },
   "file_extension": ".py",
   "mimetype": "text/x-python",
   "name": "python",
   "nbconvert_exporter": "python",
   "pygments_lexer": "ipython3",
   "version": "3.10.9"
  }
 },
 "nbformat": 4,
 "nbformat_minor": 2
}
