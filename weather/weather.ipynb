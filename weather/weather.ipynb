{
 "cells": [
  {
   "cell_type": "code",
   "execution_count": 11,
   "metadata": {},
   "outputs": [
    {
     "data": {
      "text/plain": [
       "{'last_updated_epoch': 1712119500,\n",
       " 'last_updated': '2024-04-03 00:45',\n",
       " 'temp_c': 18.3,\n",
       " 'temp_f': 64.9,\n",
       " 'is_day': 0,\n",
       " 'condition': {'text': 'Light rain',\n",
       "  'icon': '//cdn.weatherapi.com/weather/64x64/night/296.png',\n",
       "  'code': 1183},\n",
       " 'wind_mph': 5.6,\n",
       " 'wind_kph': 9.0,\n",
       " 'wind_degree': 210,\n",
       " 'wind_dir': 'SSW',\n",
       " 'pressure_mb': 1002.0,\n",
       " 'pressure_in': 29.6,\n",
       " 'precip_mm': 1.78,\n",
       " 'precip_in': 0.07,\n",
       " 'humidity': 93,\n",
       " 'cloud': 100,\n",
       " 'feelslike_c': 18.3,\n",
       " 'feelslike_f': 64.9,\n",
       " 'vis_km': 6.4,\n",
       " 'vis_miles': 3.0,\n",
       " 'uv': 1.0,\n",
       " 'gust_mph': 21.1,\n",
       " 'gust_kph': 34.0}"
      ]
     },
     "execution_count": 11,
     "metadata": {},
     "output_type": "execute_result"
    }
   ],
   "source": [
    "import requests\n",
    "\n",
    "base_url = 'http://api.weatherapi.com/v1/forecast.json'\n",
    "params = {\n",
    "    'key': 'e9bedc0e7ff2400c9b943544240304',\n",
    "    'q': 'Atlanta'\n",
    "}\n",
    "\n",
    "a = requests.get(base_url, params = params)\n",
    "\n",
    "js = a.json()\n",
    "js['current']"
   ]
  },
  {
   "cell_type": "code",
   "execution_count": 8,
   "metadata": {},
   "outputs": [],
   "source": []
  },
  {
   "cell_type": "code",
   "execution_count": 12,
   "metadata": {},
   "outputs": [
    {
     "data": {
      "text/plain": [
       "requests.models.Response"
      ]
     },
     "execution_count": 12,
     "metadata": {},
     "output_type": "execute_result"
    }
   ],
   "source": [
    "type(a)"
   ]
  },
  {
   "cell_type": "code",
   "execution_count": null,
   "metadata": {},
   "outputs": [],
   "source": []
  }
 ],
 "metadata": {
  "kernelspec": {
   "display_name": "Python 3",
   "language": "python",
   "name": "python3"
  },
  "language_info": {
   "codemirror_mode": {
    "name": "ipython",
    "version": 3
   },
   "file_extension": ".py",
   "mimetype": "text/x-python",
   "name": "python",
   "nbconvert_exporter": "python",
   "pygments_lexer": "ipython3",
   "version": "3.11.7"
  }
 },
 "nbformat": 4,
 "nbformat_minor": 2
}
