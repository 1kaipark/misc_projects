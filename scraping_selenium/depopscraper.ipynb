{
 "cells": [
  {
   "cell_type": "markdown",
   "metadata": {},
   "source": [
    "imports, webdriver"
   ]
  },
  {
   "cell_type": "code",
   "execution_count": 99,
   "metadata": {},
   "outputs": [
    {
     "data": {
      "text/plain": [
       "[<selenium.webdriver.remote.webelement.WebElement (session=\"df2759486272db44af4d9a0775d05489\", element=\"1E35E0D4488F1D2C4A5344D7D331FBEC_element_88\")>,\n",
       " <selenium.webdriver.remote.webelement.WebElement (session=\"df2759486272db44af4d9a0775d05489\", element=\"1E35E0D4488F1D2C4A5344D7D331FBEC_element_89\")>,\n",
       " <selenium.webdriver.remote.webelement.WebElement (session=\"df2759486272db44af4d9a0775d05489\", element=\"1E35E0D4488F1D2C4A5344D7D331FBEC_element_90\")>,\n",
       " <selenium.webdriver.remote.webelement.WebElement (session=\"df2759486272db44af4d9a0775d05489\", element=\"1E35E0D4488F1D2C4A5344D7D331FBEC_element_91\")>,\n",
       " <selenium.webdriver.remote.webelement.WebElement (session=\"df2759486272db44af4d9a0775d05489\", element=\"1E35E0D4488F1D2C4A5344D7D331FBEC_element_92\")>,\n",
       " <selenium.webdriver.remote.webelement.WebElement (session=\"df2759486272db44af4d9a0775d05489\", element=\"1E35E0D4488F1D2C4A5344D7D331FBEC_element_93\")>,\n",
       " <selenium.webdriver.remote.webelement.WebElement (session=\"df2759486272db44af4d9a0775d05489\", element=\"1E35E0D4488F1D2C4A5344D7D331FBEC_element_94\")>,\n",
       " <selenium.webdriver.remote.webelement.WebElement (session=\"df2759486272db44af4d9a0775d05489\", element=\"1E35E0D4488F1D2C4A5344D7D331FBEC_element_95\")>,\n",
       " <selenium.webdriver.remote.webelement.WebElement (session=\"df2759486272db44af4d9a0775d05489\", element=\"1E35E0D4488F1D2C4A5344D7D331FBEC_element_96\")>,\n",
       " <selenium.webdriver.remote.webelement.WebElement (session=\"df2759486272db44af4d9a0775d05489\", element=\"1E35E0D4488F1D2C4A5344D7D331FBEC_element_97\")>,\n",
       " <selenium.webdriver.remote.webelement.WebElement (session=\"df2759486272db44af4d9a0775d05489\", element=\"1E35E0D4488F1D2C4A5344D7D331FBEC_element_98\")>,\n",
       " <selenium.webdriver.remote.webelement.WebElement (session=\"df2759486272db44af4d9a0775d05489\", element=\"1E35E0D4488F1D2C4A5344D7D331FBEC_element_16\")>,\n",
       " <selenium.webdriver.remote.webelement.WebElement (session=\"df2759486272db44af4d9a0775d05489\", element=\"1E35E0D4488F1D2C4A5344D7D331FBEC_element_99\")>,\n",
       " <selenium.webdriver.remote.webelement.WebElement (session=\"df2759486272db44af4d9a0775d05489\", element=\"1E35E0D4488F1D2C4A5344D7D331FBEC_element_100\")>,\n",
       " <selenium.webdriver.remote.webelement.WebElement (session=\"df2759486272db44af4d9a0775d05489\", element=\"1E35E0D4488F1D2C4A5344D7D331FBEC_element_101\")>,\n",
       " <selenium.webdriver.remote.webelement.WebElement (session=\"df2759486272db44af4d9a0775d05489\", element=\"1E35E0D4488F1D2C4A5344D7D331FBEC_element_102\")>,\n",
       " <selenium.webdriver.remote.webelement.WebElement (session=\"df2759486272db44af4d9a0775d05489\", element=\"1E35E0D4488F1D2C4A5344D7D331FBEC_element_46\")>,\n",
       " <selenium.webdriver.remote.webelement.WebElement (session=\"df2759486272db44af4d9a0775d05489\", element=\"1E35E0D4488F1D2C4A5344D7D331FBEC_element_40\")>,\n",
       " <selenium.webdriver.remote.webelement.WebElement (session=\"df2759486272db44af4d9a0775d05489\", element=\"1E35E0D4488F1D2C4A5344D7D331FBEC_element_42\")>]"
      ]
     },
     "execution_count": 99,
     "metadata": {},
     "output_type": "execute_result"
    }
   ],
   "source": [
    "from selenium import webdriver\n",
    "from selenium.webdriver.common.keys import Keys\n",
    "from selenium.webdriver.common.by import By\n",
    "\n",
    "driver = webdriver.Chrome()\n",
    "\n",
    "driver.get(\"https://www.depop.com\")\n",
    "\n",
    "elem = driver.find_element(By.NAME, \"q\")\n",
    "elem.clear()\n",
    "elem.send_keys(input('enter search query bitch: '))\n",
    "elem.send_keys(Keys.RETURN)\n",
    "\n",
    "\n",
    "driver.find_elements(By.XPATH, '//button')"
   ]
  },
  {
   "cell_type": "code",
   "execution_count": 129,
   "metadata": {},
   "outputs": [],
   "source": [
    "raw_prices = driver.find_elements(By.XPATH, \"//p[@class='sc-eDnWTT Price-styles__FullPrice-sc-88086281-0 fRxqiS jHCqsV']\")\n"
   ]
  },
  {
   "cell_type": "code",
   "execution_count": 130,
   "metadata": {},
   "outputs": [
    {
     "name": "stdout",
     "output_type": "stream",
     "text": [
      "[5.0, 5.0, 7.0, 7.5, 8.0, 8.0, 9.0, 9.0, 9.0, 10.0, 10.0, 10.0, 10.0, 10.0, 10.0, 10.0, 10.0, 10.0, 10.0, 10.0, 10.0, 10.0, 10.0, 10.0, 10.0, 11.0, 11.0, 12.0, 12.0, 12.0, 12.0, 12.0, 12.0, 12.0, 12.5, 12.5, 13.0, 13.0, 13.0, 14.0, 15.0, 15.0, 15.0, 15.0, 15.0, 15.0, 15.0, 15.0, 15.0, 15.0, 15.0, 15.0, 15.0, 15.0, 15.0, 15.0, 15.0, 15.0, 15.0, 15.0, 15.0, 15.0, 15.0, 15.0, 15.0, 15.0, 15.0, 15.0, 15.0, 15.0, 15.0, 15.0, 15.0, 15.0, 15.0, 15.0, 15.0, 15.0, 15.0, 15.0, 15.0, 15.0, 15.0, 15.0, 15.0, 15.0, 15.0, 15.0, 15.0, 16.99, 17.0, 18.0, 18.0, 18.0, 19.0, 19.0, 19.0, 19.99, 19.99, 19.99, 20.0, 20.0, 20.0, 20.0, 20.0, 20.0, 20.0, 20.0, 20.0, 20.0, 20.0, 20.0, 20.0, 20.0, 20.0, 20.0, 20.0, 20.0, 20.0, 20.0, 20.0, 20.0, 20.0, 20.0, 20.0, 20.0, 20.0, 21.0, 22.0, 22.0, 22.0, 22.0, 22.0, 22.0, 24.0, 24.0, 24.99, 25.0, 25.0, 25.0, 25.0, 25.0, 25.0, 25.0, 25.0, 25.0, 25.0, 25.0, 25.0, 25.0, 25.0, 25.0, 25.0, 25.0, 25.0, 25.0, 25.0, 25.0, 25.0, 25.0, 26.0, 26.0, 28.0, 28.0, 30.0, 30.0, 30.0, 30.0, 30.0, 35.0, 35.0, 35.0, 35.0, 35.0, 35.0, 35.0, 40.0, 40.0, 45.0, 55.0]\n"
     ]
    }
   ],
   "source": [
    "pricesList = []\n",
    "\n",
    "n = 0\n",
    "for element in raw_prices:\n",
    "    n += 1\n",
    "    price = element.text.replace('$', '')\n",
    "    pricesList.append(float(price))\n",
    "\n",
    "\n",
    "print (sorted(pricesList))\n",
    "\n",
    "\n"
   ]
  },
  {
   "cell_type": "code",
   "execution_count": null,
   "metadata": {},
   "outputs": [],
   "source": []
  }
 ],
 "metadata": {
  "kernelspec": {
   "display_name": "base",
   "language": "python",
   "name": "python3"
  },
  "language_info": {
   "codemirror_mode": {
    "name": "ipython",
    "version": 3
   },
   "file_extension": ".py",
   "mimetype": "text/x-python",
   "name": "python",
   "nbconvert_exporter": "python",
   "pygments_lexer": "ipython3",
   "version": "3.10.9"
  }
 },
 "nbformat": 4,
 "nbformat_minor": 2
}
