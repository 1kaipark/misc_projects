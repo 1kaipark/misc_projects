{
 "cells": [
  {
   "cell_type": "code",
   "execution_count": 1,
   "metadata": {},
   "outputs": [],
   "source": [
    "from selenium import webdriver\n",
    "from selenium.webdriver.common.keys import Keys\n",
    "from selenium.webdriver.common.by import By\n",
    "import time\n",
    "\n",
    "form_link = input(\"form link:\")\n",
    "\n",
    "driver = webdriver.Chrome()\n",
    "driver.get(form_link)"
   ]
  },
  {
   "cell_type": "code",
   "execution_count": 2,
   "metadata": {},
   "outputs": [],
   "source": [
    "numrepeat = input('how many times do you want to repeat:')\n",
    "for _ in range(int(numrepeat)):\n",
    "    textboxes = driver.find_elements(By.CLASS_NAME, 'whsOnd')\n",
    "    bigtextboxes = driver.find_elements(By.CLASS_NAME, 'KHxj8b')\n",
    "    radiobuttons = driver.find_elements(By.CLASS_NAME, 'YEVVod')\n",
    "\n",
    "    for item in textboxes:\n",
    "        item.send_keys(\"penis@oadjsfoii.com\")\n",
    "\n",
    "    for item in bigtextboxes:\n",
    "        item.send_keys(\"ADSJKLVL\")\n",
    "\n",
    "    for item in radiobuttons:\n",
    "        item.click()\n",
    "\n",
    "    submit_button = driver.find_element(By.XPATH, \"//*[contains(text(), 'Submit')]\")\n",
    "\n",
    "    submit_button.click()\n",
    "\n",
    "    driver.refresh()\n",
    "    time.sleep(0.5)"
   ]
  },
  {
   "cell_type": "code",
   "execution_count": 12,
   "metadata": {},
   "outputs": [
    {
     "name": "stdout",
     "output_type": "stream",
     "text": [
      "Theta: [0.85903352 1.0620114 ]\n"
     ]
    }
   ],
   "source": [
    "import numpy as np\n",
    "\n",
    "def gradient_descent(X, y, lr=0.01, epochs=1000):\n",
    "    m, n = X.shape\n",
    "    theta = np.zeros(n)\n",
    "    for _ in range(epochs):\n",
    "        y_pred = np.dot(X, theta)\n",
    "        gradient = np.dot(X.T, (y_pred - y)) / m\n",
    "        theta -= lr * gradient\n",
    "    return theta\n",
    "\n",
    "# Example usage:\n",
    "X = np.array([[1, 1], [1, 2], [1, 3]])  # Example feature matrix (with bias term)\n",
    "y = np.array([2, 3, 4])  # Example target vector\n",
    "theta = gradient_descent(X, y)\n",
    "print(\"Theta:\", theta)\n",
    "\n"
   ]
  }
 ],
 "metadata": {
  "kernelspec": {
   "display_name": "base",
   "language": "python",
   "name": "python3"
  },
  "language_info": {
   "codemirror_mode": {
    "name": "ipython",
    "version": 3
   },
   "file_extension": ".py",
   "mimetype": "text/x-python",
   "name": "python",
   "nbconvert_exporter": "python",
   "pygments_lexer": "ipython3",
   "version": "3.10.9"
  }
 },
 "nbformat": 4,
 "nbformat_minor": 2
}
