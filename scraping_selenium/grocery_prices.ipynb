{
 "cells": [
  {
   "cell_type": "code",
   "execution_count": 261,
   "metadata": {},
   "outputs": [],
   "source": [
    "from selenium import webdriver\n",
    "from selenium.webdriver.common.keys import Keys\n",
    "from selenium.webdriver.common.by import By\n",
    "from selenium.webdriver.common.action_chains import ActionChains\n",
    "import time\n",
    "\n",
    "import operator\n",
    "\n",
    "import numpy as np \n",
    "import matplotlib.pyplot as plt \n",
    "from scipy.stats import norm\n",
    "import statistics\n",
    "\n",
    "from bs4 import BeautifulSoup\n",
    "\n",
    "def web_driver(headless = False):\n",
    "\n",
    "    chrome_options = webdriver.ChromeOptions()\n",
    "    if headless:\n",
    "        chrome_options.add_argument('--headless')\n",
    "    chrome_options.add_argument(\"--enable-features=PermissionDefaultSettingForGeolocation:1\")\n",
    "\n",
    "    return webdriver.Chrome(options = chrome_options)\n",
    "\n",
    "def kroger_search(driver, query):\n",
    "    driver.get(f\"{sites_dict.get('kroger')}{query}\")\n",
    "    time.sleep(5)\n",
    "    soup = BeautifulSoup(driver.page_source, 'html.parser')\n",
    "    items = soup.find_all('div', class_ = 'kds-Card ProductCard border border-neutral-less-subtle border-solid flex flex-col w-full overflow-hidden px-8 pb-16 rounded-large hover:shadow-2')\n",
    "\n",
    "    names_prices = {}\n",
    "    for i in items:\n",
    "        a = str(i.text).split(' ')\n",
    "        name = ' '.join(n for n in a[4:10])\n",
    "        price = a[0].split('$')[1]\n",
    "        names_prices[name] = price\n",
    "    # driver.quit()\n",
    "    return names_prices\n",
    "    \n",
    "def lidl_search(driver, query):\n",
    "    driver.get(f\"{sites_dict.get('lidl')}{query}\")\n",
    "    time.sleep(2)\n",
    "    soup = BeautifulSoup(driver.page_source, 'html.parser')\n",
    "    items = soup.find_all('a', class_ = 'clickable link detail-card-link clickable--size-inline')\n",
    "\n",
    "    names_prices = {}\n",
    "    for i in items:\n",
    "        name = i.text.split('*')[1]\n",
    "        price = i.text.split('*')[0].split('$')[1]\n",
    "        names_prices[name] = price\n",
    "    print(names_prices)\n",
    "\n",
    "\n",
    "def target_search(driver, query):\n",
    "    driver.get(f\"{sites_dict.get('target')}{query}\")\n",
    "    time.sleep(5)\n",
    "    soup = BeautifulSoup(driver.page_source, 'html.parser')\n",
    "    items = soup.find_all('div', class_ = 'styles__StyledDetailsWrapper-sc-hztu6c-1 TqROS')\n",
    "    names_prices = {}\n",
    "    for item in items:\n",
    "        for text in item:\n",
    "            if '$' in text.text:\n",
    "                price = text.text[1:5]\n",
    "        name = item.text[0:40]\n",
    "        names_prices[name] = price\n",
    "    return names_prices\n",
    "\n",
    "sites_dict = {\n",
    "    'publix': 'https://www.publix.com/search?searchTerm=',\n",
    "    'kroger': 'https://www.kroger.com/search?query=',\n",
    "    'walmart': 'https://www.walmart.com/search?q=',\n",
    "    'target': 'https://www.target.com/s?searchTerm=',\n",
    "    'lidl': 'https://www.lidl.com/search/products/',\n",
    "    'costco': 'https://www.costco.com/CatalogSearch?dept=All&keyword='\n",
    "}\n",
    "\n",
    "def search(driver, query, depth):\n",
    "    d = {}\n",
    "    d['kroger'] = kroger_search(driver, query)\n",
    "    d['target'] = target_search(driver, query)\n",
    "    d['lidl'] = lidl_search(driver, query)\n",
    "    return d"
   ]
  },
  {
   "cell_type": "code",
   "execution_count": 256,
   "metadata": {},
   "outputs": [
    {
     "name": "stdout",
     "output_type": "stream",
     "text": [
      "{'nonfat Greek yogurt, strawberry12.1 ¢ per oz.in stock': '0.64', 'nonfat Greek yogurt, plain10.9 ¢ per oz.in stock': '3.49', 'nonfat Greek yogurt, plain12.1 ¢ per oz.in stock': '0.64', 'light Greek yogurt, blueberry12.1 ¢ per oz.in stock': '0.64', 'nonfat Greek yogurt, blueberry12.1 ¢ per oz.in stock': '0.64', 'light Greek yogurt, strawberry12.1 ¢ per oz.in stock': '0.64', 'light Greek yogurt, vanilla12.1 ¢ per oz.in stock': '0.64', 'nonfat Greek yogurt, raspberry12.1 ¢ per oz.in stock': '0.64', 'nonfat Greek yogurt, vanilla12.1 ¢ per oz.in stock': '0.64'}\n",
      "{'kroger': {}, 'target': {'Oikos Triple Zero Vanilla Greek Yogurt -': '5.49', 'Light + Fit Nonfat Gluten-Free Vanilla G': '5.49', 'Greek Plain Nonfat Yogurt - 32oz - Good ': '3.69', 'Chobani Plain Nonfat Greek Yogurt - 5.3o': '1.39'}, 'lidl': None}\n"
     ]
    }
   ],
   "source": [
    "driver = web_driver(headless=False)\n",
    "query = 'greek yogurt'\n",
    "d = {}\n",
    "d['kroger'] = kroger_search(driver, query)\n",
    "d['target'] = target_search(driver, query)\n",
    "d['lidl'] = lidl_search(driver, query)\n",
    "print(d)"
   ]
  },
  {
   "cell_type": "code",
   "execution_count": 259,
   "metadata": {},
   "outputs": [],
   "source": [
    "driver = web_driver(headless=False)\n",
    "k= kroger_search(driver, query)"
   ]
  },
  {
   "cell_type": "code",
   "execution_count": 260,
   "metadata": {},
   "outputs": [
    {
     "name": "stdout",
     "output_type": "stream",
     "text": [
      "{}\n"
     ]
    }
   ],
   "source": [
    "print(k)"
   ]
  },
  {
   "cell_type": "code",
   "execution_count": 257,
   "metadata": {},
   "outputs": [],
   "source": [
    "driver.quit()"
   ]
  },
  {
   "cell_type": "code",
   "execution_count": null,
   "metadata": {},
   "outputs": [],
   "source": []
  }
 ],
 "metadata": {
  "kernelspec": {
   "display_name": "base",
   "language": "python",
   "name": "python3"
  },
  "language_info": {
   "codemirror_mode": {
    "name": "ipython",
    "version": 3
   },
   "file_extension": ".py",
   "mimetype": "text/x-python",
   "name": "python",
   "nbconvert_exporter": "python",
   "pygments_lexer": "ipython3",
   "version": "3.11.7"
  }
 },
 "nbformat": 4,
 "nbformat_minor": 2
}
