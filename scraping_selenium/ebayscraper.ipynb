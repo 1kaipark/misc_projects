{
 "cells": [
  {
   "cell_type": "markdown",
   "metadata": {},
   "source": [
    "imports, webdriver"
   ]
  },
  {
   "cell_type": "code",
   "execution_count": 1,
   "metadata": {},
   "outputs": [],
   "source": [
    "from selenium import webdriver\n",
    "from selenium.webdriver.common.keys import Keys\n",
    "from selenium.webdriver.common.by import By\n",
    "import time\n",
    "\n",
    "import operator\n",
    "\n",
    "import numpy as np \n",
    "import matplotlib.pyplot as plt \n",
    "from scipy.stats import norm\n",
    "import statistics\n",
    "\n",
    "query = input(\"enter search query bitch: \")\n",
    "driver = webdriver.Chrome()\n",
    "\n",
    "driver.get(\"https://www.ebay.com/\")\n",
    "\n",
    "elem = driver.find_element(By.XPATH, '//*[@id=\"gh-ac\"]')\n",
    "elem.clear()\n",
    "elem.send_keys(query)\n",
    "elem.send_keys(Keys.RETURN)"
   ]
  },
  {
   "cell_type": "code",
   "execution_count": 2,
   "metadata": {},
   "outputs": [
    {
     "name": "stdout",
     "output_type": "stream",
     "text": [
      "next page\n",
      "no more pages\n"
     ]
    }
   ],
   "source": [
    "pricesList = []\n",
    "namesList = []\n",
    "pricesList_num = []\n",
    "\n",
    "for _ in range(int(input(\"how many pages to search\"))):\n",
    "    raw_prices = driver.find_elements(By.CLASS_NAME, 's-item__price')\n",
    "    raw_names = driver.find_elements(By.CLASS_NAME, 's-item__title')\n",
    "\n",
    "    for element in raw_prices:\n",
    "        price = element.text.replace('$', '')\n",
    "        price = price.replace(',', '')\n",
    "        pricesList.append(price)\n",
    "\n",
    "        if ' to ' in price:\n",
    "            #i.e. 10.00 to 20.00\n",
    "            price = (float(price.split(' to ')[0]) + float(price.split(' to ')[1])) / 2\n",
    "        pricesList_num.append(price)\n",
    "\n",
    "    for element in raw_names:\n",
    "        namesList.append(element.text)\n",
    "\n",
    "    try:\n",
    "        print(\"next page\")\n",
    "        time.sleep(1)\n",
    "        next_button = driver.find_element(By.CLASS_NAME, \"pagination__next\")\n",
    "        next_button.click()\n",
    "        time.sleep(1)\n",
    "    except:\n",
    "        print(\"no more pages\")"
   ]
  },
  {
   "cell_type": "code",
   "execution_count": 3,
   "metadata": {},
   "outputs": [
    {
     "name": "stdout",
     "output_type": "stream",
     "text": [
      "('Denim Jeans EVISU JEANS × Hello Kitty Collabo DENIM Pants Japan W:29 Inseam:31', 550.0)\n",
      "('Denim Jeans EVISU DONNA JEANS × Hello Kitty Collabo DENIM Japan W:28 Inseam:29', 395.0)\n",
      "('Denim Jeans EVISU DONNA JEANS × Hello Kitty Collabo DENIM Japan W:26 Inseam:28', 200.0)\n",
      "('EVISU DONNA JEANS × Hello Kitty Collaboration Denim Jeans Size 26 RARE', 190.0)\n",
      "('EVISU x Hello Kitty Collaboration Denim Jeans Pants Selvedge No2 2001 30x34 NEW', 500.0)\n",
      "('Evisu Donna Hello Kitty Sanrio Collabo Denim Jeans Size M Skinny Denim Rare', 239.4)\n",
      "('EVISU x Hello Kitty Collaboration Denim Jeans Pants Selvedge No2 2001 38x35', 499.99)\n",
      "('EVISU DONNA JEANS × Hello Kitty Collaboration Denim Jeans Size 26 RARE', 188.0)\n",
      "('evisu jeans hello kitty', 259.73)\n",
      "('Evisu Hello Kitty collaboration embroidery jeans LOT.2001 33×35 Indigo blue', 465.99)\n",
      "('EVISU DONNA SANRIO HELLO KITTY Collaboration DENIM Jeans 29 Size', 259.25)\n",
      "('evisu x hello kitty Tee Shirt Size 30 Size XXs - Xs', 265.0)\n",
      "('Japanese Fabrics EVISU Jeans HelloKitty Collaboration Denim Pants No2 2001 36x35', 478.0)\n",
      "('Denim Jeans EVISU JEANS × Hello Kitty Collabo Limited DENIM Japan W:29 Inseam:31', 450.0)\n",
      "('Denim Jeans EVISU JEANS × Hello Kitty Collabo DENIM Pants Japan W:26 Inseam:31', 347.0)\n",
      "('Evisu Jeans Hello Kitty', 275.08)\n",
      "('Denim Jeans EVISU JEANS × Hello Kitty Collabo Limited DENIM Japan W:29 Inseam:31', 399.0)\n",
      "('Evisu Donna Hello Kitty Sanrio Collabo Jeans 29 Size S Straight Denim Japan', 261.25)\n",
      "(\"EVISU Japanese Denim Men's Jeans\", 151.89)\n",
      "('Evisu jeans Genes Tokyo Osaka W32 Japanese denim brand new', 1150.0)\n",
      "('evisu Daikoku Japanese denim 32 inches new', 478.19)\n",
      "('Denim Jeans Hello Kitty JEANS Kids Blue DENIM Pants SANRIO Elastic Waist NEW', 70.0)\n",
      "('Sanrio Hello Kitty Pink TV Monitor With Hello Kitty Remote TESTED!', 225.0)\n",
      "('Hello Kitty Cotton Candy Maker Machine Sanrio 2012 Sakar Pink', 5.0)\n",
      "('Hello Kitty Blanket', 45.0)\n",
      "('Funko Pop Hello Kitty Team USA series', 27.0)\n",
      "('Hello Kitty Levi’s Overalls', 450.0)\n",
      "('JAPANESE BRAND HELLO KITTY JEANS', 800.0)\n",
      "('Hello Kitty And Friends Mom Jeans', 45.0)\n",
      "('custom hello kitty jeans', 60.0)\n",
      "('Hello Kitty Heart Mom Jeans Size 20', 64.99)\n",
      "('Levi s x Hello Kitty jeans', 175.99)\n",
      "('Calzedonia Hello Kitty Jeans Size Medium', 30.0)\n",
      "('Hello kitty mirror- LED, Makeup Mirror With Base', 175.0)\n",
      "('Cinnamoroll Hello Kitty And Friends Polaroid Camera', 200.0)\n",
      "('NWT Hello Kitty Impressions Vanity Makeup Chair white Sanrio VHTF TikTok Viral', 299.99)\n",
      "('hello kitty tumbler with straw', 200.0)\n",
      "('Custom Hello Kitty Hollister jeans women', 55.0)\n",
      "('Hello Kitty X Forever 21 - Rhinestone Hello Kitty Straight Jeans - NWT!', 49.95)\n",
      "('SHEIN Hello Kitty & Friends, Size Small Straight Leg Jeans', 25.0)\n",
      "('Shein X Hello Kitty Yellow Pink Blue Jeans Size Small NWT', 15.0)\n",
      "('New Skinny dip hello kitty Denim Jeans Size 12', 49.35)\n",
      "('NWT Hello Kitty Pink Bow Fluffy Lamp Plug In W Cord', 45.0)\n",
      "('Razer X Sanrio Hello Kitty Bluetooth Headphones Limited Edition', 200.0)\n",
      "('Vintage Sanrio Hello Kitty Plush Set Showa Retro 4 Pieces Partner and Ecos', 171.29)\n",
      "('Vintage Hello Kitty Plastic Handled Box With Lid', 5.0)\n",
      "('Hello Kitty Sanrio Phone', 39.99)\n",
      "('HELLO KITTY Sanrio Lot', 0.99)\n",
      "('HELLO KITTY Sanrio Lot', 0.99)\n",
      "('Sanrio Hello Kitty Kenya Figurine', 4.99)\n",
      "('Hello Kitty Stanley Cup', 170.0)\n",
      "('Hello Kitty Volcano Motion Lamp', 30.99)\n",
      "('hello kitty X Care Bear', 1.25)\n",
      "('Sanrio Hello Kitty Wooden Accessory Case Jewelry Box~ Strawberries~ Vintage~RARE', 139.95)\n",
      "('hello kitty coffeee mug cups', 10.0)\n",
      "('SUPER DELUXE *HELLO KITTY* VALENTINE\"S DAY GIFT BASKET FOR GIRLS READY TO SHIP!', 15.99)\n",
      "('Hello Kitty Sanrio Bundle Lot', 99.99)\n",
      "('Hello Kitty Photo Frame 2002 Sanrio Co.', 15.0)\n",
      "('Hello Kitty Bundle', 40.0)\n",
      "('Hello Kitty Lot Bundle', 2.0)\n",
      "('Hello Kitty Sanrio Lot', 17.5)\n",
      "('hello kitty glass bank', 150.0)\n",
      "('Hello Kitty Lot', 69.99)\n",
      "('Hello Kitty Rug', 99.0)\n",
      "('Hello Kitty Star’s Limited edition', 145.0)\n"
     ]
    }
   ],
   "source": [
    "try:\n",
    "    pricesList_num.remove('')\n",
    "    pricesList.remove('')\n",
    "    namesList.remove('')\n",
    "except:\n",
    "    assert True\n",
    "\n",
    "pricesList_float = []\n",
    "for item in pricesList_num:\n",
    "    pricesList_float.append(round(float(item), 2))\n",
    "\n",
    "item_name_and_price = zip(namesList, pricesList_float)\n",
    "\n",
    "for item in item_name_and_price:\n",
    "    print(item)"
   ]
  },
  {
   "cell_type": "code",
   "execution_count": 8,
   "metadata": {},
   "outputs": [
    {
     "name": "stdout",
     "output_type": "stream",
     "text": [
      "('HELLO KITTY Sanrio Lot', 0.99)\n",
      "('HELLO KITTY Sanrio Lot', 0.99)\n",
      "('hello kitty X Care Bear', 1.25)\n",
      "('Hello Kitty Lot Bundle', 2.0)\n",
      "('Sanrio Hello Kitty Kenya Figurine', 4.99)\n",
      "('Hello Kitty Cotton Candy Maker Machine Sanrio 2012 Sakar Pink', 5.0)\n",
      "('Vintage Hello Kitty Plastic Handled Box With Lid', 5.0)\n",
      "('hello kitty coffeee mug cups', 10.0)\n",
      "('Shein X Hello Kitty Yellow Pink Blue Jeans Size Small NWT', 15.0)\n",
      "('Hello Kitty Photo Frame 2002 Sanrio Co.', 15.0)\n",
      "('SUPER DELUXE *HELLO KITTY* VALENTINE\"S DAY GIFT BASKET FOR GIRLS READY TO SHIP!', 15.99)\n",
      "('Hello Kitty Sanrio Lot', 17.5)\n",
      "('SHEIN Hello Kitty & Friends, Size Small Straight Leg Jeans', 25.0)\n",
      "('Funko Pop Hello Kitty Team USA series', 27.0)\n",
      "('Calzedonia Hello Kitty Jeans Size Medium', 30.0)\n",
      "('Hello Kitty Volcano Motion Lamp', 30.99)\n",
      "('Hello Kitty Sanrio Phone', 39.99)\n",
      "('Hello Kitty Bundle', 40.0)\n",
      "('Hello Kitty Blanket', 45.0)\n",
      "('Hello Kitty And Friends Mom Jeans', 45.0)\n",
      "('NWT Hello Kitty Pink Bow Fluffy Lamp Plug In W Cord', 45.0)\n",
      "('New Skinny dip hello kitty Denim Jeans Size 12', 49.35)\n",
      "('Hello Kitty X Forever 21 - Rhinestone Hello Kitty Straight Jeans - NWT!', 49.95)\n",
      "('Custom Hello Kitty Hollister jeans women', 55.0)\n",
      "('custom hello kitty jeans', 60.0)\n",
      "('Hello Kitty Heart Mom Jeans Size 20', 64.99)\n",
      "('Hello Kitty Lot', 69.99)\n",
      "('Denim Jeans Hello Kitty JEANS Kids Blue DENIM Pants SANRIO Elastic Waist NEW', 70.0)\n",
      "('Hello Kitty Rug', 99.0)\n",
      "('Hello Kitty Sanrio Bundle Lot', 99.99)\n",
      "('Sanrio Hello Kitty Wooden Accessory Case Jewelry Box~ Strawberries~ Vintage~RARE', 139.95)\n",
      "('Hello Kitty Star’s Limited edition', 145.0)\n",
      "('hello kitty glass bank', 150.0)\n",
      "(\"EVISU Japanese Denim Men's Jeans\", 151.89)\n",
      "('Hello Kitty Stanley Cup', 170.0)\n",
      "('Vintage Sanrio Hello Kitty Plush Set Showa Retro 4 Pieces Partner and Ecos', 171.29)\n",
      "('Hello kitty mirror- LED, Makeup Mirror With Base', 175.0)\n",
      "('Levi s x Hello Kitty jeans', 175.99)\n",
      "('EVISU DONNA JEANS × Hello Kitty Collaboration Denim Jeans Size 26 RARE', 188.0)\n",
      "('EVISU DONNA JEANS × Hello Kitty Collaboration Denim Jeans Size 26 RARE', 190.0)\n",
      "('Denim Jeans EVISU DONNA JEANS × Hello Kitty Collabo DENIM Japan W:26 Inseam:28', 200.0)\n",
      "('Cinnamoroll Hello Kitty And Friends Polaroid Camera', 200.0)\n",
      "('hello kitty tumbler with straw', 200.0)\n",
      "('Razer X Sanrio Hello Kitty Bluetooth Headphones Limited Edition', 200.0)\n",
      "('Sanrio Hello Kitty Pink TV Monitor With Hello Kitty Remote TESTED!', 225.0)\n",
      "('Evisu Donna Hello Kitty Sanrio Collabo Denim Jeans Size M Skinny Denim Rare', 239.4)\n",
      "('EVISU DONNA SANRIO HELLO KITTY Collaboration DENIM Jeans 29 Size', 259.25)\n",
      "('evisu jeans hello kitty', 259.73)\n",
      "('Evisu Donna Hello Kitty Sanrio Collabo Jeans 29 Size S Straight Denim Japan', 261.25)\n",
      "('evisu x hello kitty Tee Shirt Size 30 Size XXs - Xs', 265.0)\n",
      "('Evisu Jeans Hello Kitty', 275.08)\n",
      "('NWT Hello Kitty Impressions Vanity Makeup Chair white Sanrio VHTF TikTok Viral', 299.99)\n",
      "('Denim Jeans EVISU JEANS × Hello Kitty Collabo DENIM Pants Japan W:26 Inseam:31', 347.0)\n",
      "('Denim Jeans EVISU DONNA JEANS × Hello Kitty Collabo DENIM Japan W:28 Inseam:29', 395.0)\n",
      "('Denim Jeans EVISU JEANS × Hello Kitty Collabo Limited DENIM Japan W:29 Inseam:31', 399.0)\n",
      "('Denim Jeans EVISU JEANS × Hello Kitty Collabo Limited DENIM Japan W:29 Inseam:31', 450.0)\n",
      "('Hello Kitty Levi’s Overalls', 450.0)\n",
      "('Evisu Hello Kitty collaboration embroidery jeans LOT.2001 33×35 Indigo blue', 465.99)\n",
      "('Japanese Fabrics EVISU Jeans HelloKitty Collaboration Denim Pants No2 2001 36x35', 478.0)\n",
      "('evisu Daikoku Japanese denim 32 inches new', 478.19)\n",
      "('EVISU x Hello Kitty Collaboration Denim Jeans Pants Selvedge No2 2001 38x35', 499.99)\n",
      "('EVISU x Hello Kitty Collaboration Denim Jeans Pants Selvedge No2 2001 30x34 NEW', 500.0)\n",
      "('Denim Jeans EVISU JEANS × Hello Kitty Collabo DENIM Pants Japan W:29 Inseam:31', 550.0)\n",
      "('JAPANESE BRAND HELLO KITTY JEANS', 800.0)\n",
      "('Evisu jeans Genes Tokyo Osaka W32 Japanese denim brand new', 1150.0)\n"
     ]
    }
   ],
   "source": [
    "sorted_list = sorted(zip(namesList, pricesList_float), key=operator.itemgetter(1))\n",
    "\n",
    "for item in sorted_list:\n",
    "    print(item)"
   ]
  },
  {
   "cell_type": "code",
   "execution_count": 5,
   "metadata": {},
   "outputs": [
    {
     "name": "stdout",
     "output_type": "stream",
     "text": [
      "OK, 68\n"
     ]
    }
   ],
   "source": [
    "n = 0\n",
    "for item in pricesList_float:\n",
    "    if isinstance(item, float) == True:\n",
    "        n += 1\n",
    "    if n == len (pricesList_float):\n",
    "        print(f\"OK, {n}\")"
   ]
  },
  {
   "cell_type": "code",
   "execution_count": 6,
   "metadata": {},
   "outputs": [
    {
     "name": "stdout",
     "output_type": "stream",
     "text": [
      "outlier of price 1150.0\n"
     ]
    },
    {
     "data": {
      "image/png": "[encoded data removed]",
      "text/plain": [
       "<Figure size 640x480 with 1 Axes>"
      ]
     },
     "metadata": {},
     "output_type": "display_data"
    },
    {
     "name": "stdout",
     "output_type": "stream",
     "text": [
      "median: 150.0, mean: 191.69029411764706\n"
     ]
    }
   ],
   "source": [
    "sd = statistics.stdev(pricesList_float)\n",
    "mean = statistics.mean(pricesList_float)\n",
    "median = statistics.median(pricesList_float)\n",
    "\n",
    "prices_no_outliers = []\n",
    "\n",
    "for price in pricesList_float:\n",
    "    if price > 5 * sd:\n",
    "        print(f\"outlier of price {price}\")\n",
    "    else:\n",
    "        prices_no_outliers.append(price)\n",
    "        \n",
    "\n",
    "plt.boxplot(prices_no_outliers)\n",
    "plt.title(\"average price of '\" + query + \"'\")\n",
    "plt.xticks([1], ['ebay'])\n",
    "plt.show()\n",
    "\n",
    "print(f\"median: {median}, mean: {mean}\")"
   ]
  }
 ],
 "metadata": {
  "kernelspec": {
   "display_name": "base",
   "language": "python",
   "name": "python3"
  },
  "language_info": {
   "codemirror_mode": {
    "name": "ipython",
    "version": 3
   },
   "file_extension": ".py",
   "mimetype": "text/x-python",
   "name": "python",
   "nbconvert_exporter": "python",
   "pygments_lexer": "ipython3",
   "version": "3.10.9"
  }
 },
 "nbformat": 4,
 "nbformat_minor": 2
}
