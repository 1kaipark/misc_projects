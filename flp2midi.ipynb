{
 "cells": [
  {
   "cell_type": "code",
   "execution_count": 1,
   "metadata": {
    "ExecuteTime": {
     "end_time": "2024-05-15T09:11:04.886163Z",
     "start_time": "2024-05-15T09:11:04.630986Z"
    }
   },
   "outputs": [],
   "source": [
    "import pyflp\n",
    "flp = '/Users/applelaptop/Downloads/oenis/oenis.flp'\n",
    "project = pyflp.parse(flp)\n",
    "\n",
    "patterns = [p for p in project.patterns]"
   ]
  },
  {
   "cell_type": "code",
   "execution_count": 2,
   "metadata": {
    "ExecuteTime": {
     "end_time": "2024-05-15T09:11:05.823875Z",
     "start_time": "2024-05-15T09:11:05.821480Z"
    }
   },
   "outputs": [],
   "source": [
    "serum = patterns[1]\n",
    "notes = [n for n in serum.notes]"
   ]
  },
  {
   "cell_type": "code",
   "execution_count": 3,
   "metadata": {
    "ExecuteTime": {
     "end_time": "2024-05-15T09:11:06.993410Z",
     "start_time": "2024-05-15T09:11:06.985484Z"
    }
   },
   "outputs": [
    {
     "data": {
      "text/plain": "[Note(key=A5, position=0, length=48, channel=2),\n Note(key=E6, position=0, length=48, channel=2),\n Note(key=A6, position=0, length=48, channel=2),\n Note(key=C#7, position=0, length=48, channel=2),\n Note(key=B6, position=192, length=48, channel=2),\n Note(key=G#5, position=192, length=48, channel=2),\n Note(key=D#6, position=192, length=48, channel=2),\n Note(key=F#7, position=192, length=48, channel=2),\n Note(key=G#7, position=288, length=48, channel=2),\n Note(key=C#6, position=384, length=48, channel=2),\n Note(key=G#6, position=384, length=48, channel=2),\n Note(key=C#7, position=384, length=48, channel=2),\n Note(key=E7, position=384, length=48, channel=2),\n Note(key=B5, position=480, length=48, channel=2),\n Note(key=E7, position=576, length=48, channel=2),\n Note(key=C#6, position=576, length=48, channel=2),\n Note(key=G#6, position=576, length=48, channel=2),\n Note(key=C#7, position=576, length=48, channel=2),\n Note(key=D#7, position=672, length=48, channel=2),\n Note(key=E6, position=672, length=48, channel=2),\n Note(key=A6, position=768, length=48, channel=2),\n Note(key=C#7, position=768, length=48, channel=2),\n Note(key=E6, position=768, length=48, channel=2),\n Note(key=A5, position=768, length=48, channel=2),\n Note(key=F#7, position=960, length=48, channel=2),\n Note(key=D#6, position=960, length=48, channel=2),\n Note(key=G#5, position=960, length=48, channel=2),\n Note(key=B6, position=960, length=48, channel=2),\n Note(key=G#7, position=1056, length=48, channel=2),\n Note(key=C#7, position=1152, length=48, channel=2),\n Note(key=C#6, position=1152, length=48, channel=2),\n Note(key=G#6, position=1152, length=48, channel=2),\n Note(key=E7, position=1152, length=48, channel=2),\n Note(key=B5, position=1248, length=48, channel=2),\n Note(key=C#7, position=1344, length=48, channel=2),\n Note(key=G#6, position=1344, length=48, channel=2),\n Note(key=C#6, position=1344, length=48, channel=2),\n Note(key=E7, position=1344, length=48, channel=2),\n Note(key=E6, position=1440, length=48, channel=2),\n Note(key=D#7, position=1440, length=48, channel=2)]"
     },
     "execution_count": 3,
     "metadata": {},
     "output_type": "execute_result"
    }
   ],
   "source": [
    "notes\n",
    "# position:\n",
    "# 96 = quarter note\n",
    "# thus position 96 = 100 ticks\n",
    "# position 48 should be midi tick 50\n",
    "# 100/96 is the factor we want"
   ]
  },
  {
   "cell_type": "code",
   "execution_count": 4,
   "metadata": {
    "ExecuteTime": {
     "end_time": "2024-05-15T09:11:08.026573Z",
     "start_time": "2024-05-15T09:11:08.022401Z"
    }
   },
   "outputs": [],
   "source": [
    "dat = []\n",
    "for note in notes:\n",
    "    d = {}\n",
    "    d['note'] = note.key[:-1]\n",
    "    d['octave'] = note.key[-1]\n",
    "    d['position'] = note.position\n",
    "    d['length'] = note.length\n",
    "    dat.append(d)"
   ]
  },
  {
   "cell_type": "code",
   "execution_count": 5,
   "metadata": {
    "ExecuteTime": {
     "end_time": "2024-05-15T09:11:09.352673Z",
     "start_time": "2024-05-15T09:11:09.348260Z"
    }
   },
   "outputs": [],
   "source": [
    "notetonum = {\n",
    "    'C': 0,\n",
    "    'C#': 1,\n",
    "    'D': 2,\n",
    "    'D#': 3,\n",
    "    'E': 4,\n",
    "    'F': 5,\n",
    "    'F#': 6,\n",
    "    'G': 7,\n",
    "    'G#': 8,\n",
    "    'A': 9,\n",
    "    'A#': 10,\n",
    "    'B': 11\n",
    "}\n",
    "\n",
    "def tomidi(d):\n",
    "    note = d['note']\n",
    "    octave = int(d['octave'])*12\n",
    "    num = notetonum[note]\n",
    "    return num + octave\n",
    "\n",
    "\n",
    "for d in dat:\n",
    "    d['midinote'] = tomidi(d)\n",
    "    absolute_time += int(d['position'])\n",
    "    d['abstime'] = absolute_time\n"
   ]
  },
  {
   "cell_type": "code",
   "execution_count": 6,
   "metadata": {
    "ExecuteTime": {
     "end_time": "2024-05-15T09:11:11.270133Z",
     "start_time": "2024-05-15T09:11:11.251688Z"
    }
   },
   "outputs": [
    {
     "data": {
      "text/plain": "[{'note': 'A',\n  'octave': '5',\n  'position': 0,\n  'length': 48,\n  'midinote': 69,\n  'abstime': 0},\n {'note': 'E',\n  'octave': '6',\n  'position': 0,\n  'length': 48,\n  'midinote': 76,\n  'abstime': 0},\n {'note': 'A',\n  'octave': '6',\n  'position': 0,\n  'length': 48,\n  'midinote': 81,\n  'abstime': 0},\n {'note': 'C#',\n  'octave': '7',\n  'position': 0,\n  'length': 48,\n  'midinote': 85,\n  'abstime': 0},\n {'note': 'B',\n  'octave': '6',\n  'position': 192,\n  'length': 48,\n  'midinote': 83,\n  'abstime': 192},\n {'note': 'G#',\n  'octave': '5',\n  'position': 192,\n  'length': 48,\n  'midinote': 68,\n  'abstime': 384},\n {'note': 'D#',\n  'octave': '6',\n  'position': 192,\n  'length': 48,\n  'midinote': 75,\n  'abstime': 576},\n {'note': 'F#',\n  'octave': '7',\n  'position': 192,\n  'length': 48,\n  'midinote': 90,\n  'abstime': 768},\n {'note': 'G#',\n  'octave': '7',\n  'position': 288,\n  'length': 48,\n  'midinote': 92,\n  'abstime': 1056},\n {'note': 'C#',\n  'octave': '6',\n  'position': 384,\n  'length': 48,\n  'midinote': 73,\n  'abstime': 1440},\n {'note': 'G#',\n  'octave': '6',\n  'position': 384,\n  'length': 48,\n  'midinote': 80,\n  'abstime': 1824},\n {'note': 'C#',\n  'octave': '7',\n  'position': 384,\n  'length': 48,\n  'midinote': 85,\n  'abstime': 2208},\n {'note': 'E',\n  'octave': '7',\n  'position': 384,\n  'length': 48,\n  'midinote': 88,\n  'abstime': 2592},\n {'note': 'B',\n  'octave': '5',\n  'position': 480,\n  'length': 48,\n  'midinote': 71,\n  'abstime': 3072},\n {'note': 'E',\n  'octave': '7',\n  'position': 576,\n  'length': 48,\n  'midinote': 88,\n  'abstime': 3648},\n {'note': 'C#',\n  'octave': '6',\n  'position': 576,\n  'length': 48,\n  'midinote': 73,\n  'abstime': 4224},\n {'note': 'G#',\n  'octave': '6',\n  'position': 576,\n  'length': 48,\n  'midinote': 80,\n  'abstime': 4800},\n {'note': 'C#',\n  'octave': '7',\n  'position': 576,\n  'length': 48,\n  'midinote': 85,\n  'abstime': 5376},\n {'note': 'D#',\n  'octave': '7',\n  'position': 672,\n  'length': 48,\n  'midinote': 87,\n  'abstime': 6048},\n {'note': 'E',\n  'octave': '6',\n  'position': 672,\n  'length': 48,\n  'midinote': 76,\n  'abstime': 6720},\n {'note': 'A',\n  'octave': '6',\n  'position': 768,\n  'length': 48,\n  'midinote': 81,\n  'abstime': 7488},\n {'note': 'C#',\n  'octave': '7',\n  'position': 768,\n  'length': 48,\n  'midinote': 85,\n  'abstime': 8256},\n {'note': 'E',\n  'octave': '6',\n  'position': 768,\n  'length': 48,\n  'midinote': 76,\n  'abstime': 9024},\n {'note': 'A',\n  'octave': '5',\n  'position': 768,\n  'length': 48,\n  'midinote': 69,\n  'abstime': 9792},\n {'note': 'F#',\n  'octave': '7',\n  'position': 960,\n  'length': 48,\n  'midinote': 90,\n  'abstime': 10752},\n {'note': 'D#',\n  'octave': '6',\n  'position': 960,\n  'length': 48,\n  'midinote': 75,\n  'abstime': 11712},\n {'note': 'G#',\n  'octave': '5',\n  'position': 960,\n  'length': 48,\n  'midinote': 68,\n  'abstime': 12672},\n {'note': 'B',\n  'octave': '6',\n  'position': 960,\n  'length': 48,\n  'midinote': 83,\n  'abstime': 13632},\n {'note': 'G#',\n  'octave': '7',\n  'position': 1056,\n  'length': 48,\n  'midinote': 92,\n  'abstime': 14688},\n {'note': 'C#',\n  'octave': '7',\n  'position': 1152,\n  'length': 48,\n  'midinote': 85,\n  'abstime': 15840},\n {'note': 'C#',\n  'octave': '6',\n  'position': 1152,\n  'length': 48,\n  'midinote': 73,\n  'abstime': 16992},\n {'note': 'G#',\n  'octave': '6',\n  'position': 1152,\n  'length': 48,\n  'midinote': 80,\n  'abstime': 18144},\n {'note': 'E',\n  'octave': '7',\n  'position': 1152,\n  'length': 48,\n  'midinote': 88,\n  'abstime': 19296},\n {'note': 'B',\n  'octave': '5',\n  'position': 1248,\n  'length': 48,\n  'midinote': 71,\n  'abstime': 20544},\n {'note': 'C#',\n  'octave': '7',\n  'position': 1344,\n  'length': 48,\n  'midinote': 85,\n  'abstime': 21888},\n {'note': 'G#',\n  'octave': '6',\n  'position': 1344,\n  'length': 48,\n  'midinote': 80,\n  'abstime': 23232},\n {'note': 'C#',\n  'octave': '6',\n  'position': 1344,\n  'length': 48,\n  'midinote': 73,\n  'abstime': 24576},\n {'note': 'E',\n  'octave': '7',\n  'position': 1344,\n  'length': 48,\n  'midinote': 88,\n  'abstime': 25920},\n {'note': 'E',\n  'octave': '6',\n  'position': 1440,\n  'length': 48,\n  'midinote': 76,\n  'abstime': 27360},\n {'note': 'D#',\n  'octave': '7',\n  'position': 1440,\n  'length': 48,\n  'midinote': 87,\n  'abstime': 28800}]"
     },
     "execution_count": 6,
     "metadata": {},
     "output_type": "execute_result"
    }
   ],
   "source": [
    "dat"
   ]
  },
  {
   "cell_type": "code",
   "execution_count": 60,
   "metadata": {},
   "outputs": [],
   "source": [
    "import mido\n",
    "def tomessage(d):\n",
    "    return mido.Message('note_on', channel = 0, note = d['midinote'], velocity = 64, time = int(int(d['position'])*(100/96)))"
   ]
  },
  {
   "cell_type": "code",
   "execution_count": 61,
   "metadata": {},
   "outputs": [],
   "source": [
    "msgs = [tomessage(d) for d in dat]"
   ]
  },
  {
   "cell_type": "code",
   "execution_count": 62,
   "metadata": {},
   "outputs": [
    {
     "data": {
      "text/plain": [
       "[Message('note_on', channel=0, note=69, velocity=64, time=0),\n",
       " Message('note_on', channel=0, note=76, velocity=64, time=0),\n",
       " Message('note_on', channel=0, note=81, velocity=64, time=0),\n",
       " Message('note_on', channel=0, note=85, velocity=64, time=0),\n",
       " Message('note_on', channel=0, note=83, velocity=64, time=200),\n",
       " Message('note_on', channel=0, note=68, velocity=64, time=200),\n",
       " Message('note_on', channel=0, note=75, velocity=64, time=200),\n",
       " Message('note_on', channel=0, note=90, velocity=64, time=200),\n",
       " Message('note_on', channel=0, note=92, velocity=64, time=300),\n",
       " Message('note_on', channel=0, note=73, velocity=64, time=400),\n",
       " Message('note_on', channel=0, note=80, velocity=64, time=400),\n",
       " Message('note_on', channel=0, note=85, velocity=64, time=400),\n",
       " Message('note_on', channel=0, note=88, velocity=64, time=400),\n",
       " Message('note_on', channel=0, note=71, velocity=64, time=500),\n",
       " Message('note_on', channel=0, note=88, velocity=64, time=600),\n",
       " Message('note_on', channel=0, note=73, velocity=64, time=600),\n",
       " Message('note_on', channel=0, note=80, velocity=64, time=600),\n",
       " Message('note_on', channel=0, note=85, velocity=64, time=600),\n",
       " Message('note_on', channel=0, note=87, velocity=64, time=700),\n",
       " Message('note_on', channel=0, note=76, velocity=64, time=700),\n",
       " Message('note_on', channel=0, note=81, velocity=64, time=800),\n",
       " Message('note_on', channel=0, note=85, velocity=64, time=800),\n",
       " Message('note_on', channel=0, note=76, velocity=64, time=800),\n",
       " Message('note_on', channel=0, note=69, velocity=64, time=800),\n",
       " Message('note_on', channel=0, note=90, velocity=64, time=1000),\n",
       " Message('note_on', channel=0, note=75, velocity=64, time=1000),\n",
       " Message('note_on', channel=0, note=68, velocity=64, time=1000),\n",
       " Message('note_on', channel=0, note=83, velocity=64, time=1000),\n",
       " Message('note_on', channel=0, note=92, velocity=64, time=1100),\n",
       " Message('note_on', channel=0, note=85, velocity=64, time=1200),\n",
       " Message('note_on', channel=0, note=73, velocity=64, time=1200),\n",
       " Message('note_on', channel=0, note=80, velocity=64, time=1200),\n",
       " Message('note_on', channel=0, note=88, velocity=64, time=1200),\n",
       " Message('note_on', channel=0, note=71, velocity=64, time=1300),\n",
       " Message('note_on', channel=0, note=85, velocity=64, time=1400),\n",
       " Message('note_on', channel=0, note=80, velocity=64, time=1400),\n",
       " Message('note_on', channel=0, note=73, velocity=64, time=1400),\n",
       " Message('note_on', channel=0, note=88, velocity=64, time=1400),\n",
       " Message('note_on', channel=0, note=76, velocity=64, time=1500),\n",
       " Message('note_on', channel=0, note=87, velocity=64, time=1500)]"
      ]
     },
     "execution_count": 62,
     "metadata": {},
     "output_type": "execute_result"
    }
   ],
   "source": [
    "msgs\n",
    "\n",
    "# times are delta times in ticks, how long to wait since last message. no idea to convert these into absolute time."
   ]
  },
  {
   "cell_type": "code",
   "execution_count": 63,
   "metadata": {},
   "outputs": [],
   "source": [
    "track = mido.MidiTrack()\n",
    "for msg in msgs:\n",
    "    track.append(msg)\n",
    "\n",
    "mid = mido.MidiFile()\n",
    "mid.tracks.append(track)\n",
    "from shortcuts.file_io import save_file_name\n",
    "\n",
    "mid.save(save_file_name(ext = '.mid'))"
   ]
  },
  {
   "cell_type": "code",
   "execution_count": null,
   "metadata": {},
   "outputs": [],
   "source": []
  }
 ],
 "metadata": {
  "kernelspec": {
   "display_name": "base",
   "language": "python",
   "name": "python3"
  },
  "language_info": {
   "codemirror_mode": {
    "name": "ipython",
    "version": 3
   },
   "file_extension": ".py",
   "mimetype": "text/x-python",
   "name": "python",
   "nbconvert_exporter": "python",
   "pygments_lexer": "ipython3",
   "version": "3.11.5"
  }
 },
 "nbformat": 4,
 "nbformat_minor": 2
}
