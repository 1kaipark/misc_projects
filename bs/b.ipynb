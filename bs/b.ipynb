{
 "cells": [
  {
   "cell_type": "code",
   "execution_count": 3,
   "metadata": {
    "ExecuteTime": {
     "end_time": "2024-04-07T16:57:44.279960Z",
     "start_time": "2024-04-07T16:57:44.272274Z"
    }
   },
   "outputs": [],
   "source": [
    "names = open('/Users/applelaptop/CODE/misc_projs/bs/names.txt', 'r')\n",
    "names = names.read()\n",
    "names_l = names.split('\\n')\n",
    "\n",
    "def name_email(names):\n",
    "    fullname = f\"{random.choice(names)} {random.choice(names)}\"\n",
    "    email = f\"{fullname.split(' ')[0].lower()}.{fullname.split(' ')[1].lower()}@emory.edu\"\n",
    "    if random.choice([1, 2]) == 2:\n",
    "        email = f\"{fullname.split(' ')[0][0].lower()}{fullname.split(' ')[1][:3].lower()}{random.choice(range(100, 999))}@emory.edu\"\n",
    "\n",
    "    return fullname, email"
   ]
  },
  {
   "cell_type": "code",
   "execution_count": 2,
   "metadata": {
    "ExecuteTime": {
     "end_time": "2024-04-07T16:30:02.183105Z",
     "start_time": "2024-04-07T16:30:00.094181Z"
    }
   },
   "outputs": [],
   "source": [
    "from selenium import webdriver\n",
    "from selenium.webdriver.common.keys import Keys\n",
    "from selenium.webdriver.common.by import By\n",
    "import time\n",
    "import random\n",
    "\n",
    "name, email = name_email(names_l)\n",
    "driver = webdriver.Chrome()\n",
    "\n",
    "driver.get('https://docs.google.com/forms/d/e/1FAIpQLSfSR0TL0TAdN-j8bI2W1tk8Vo5odqt_I3ksaIgZ7mrRYU159w/viewform')\n",
    "time.sleep(0.2)\n",
    "fn = driver.find_element(By.XPATH, '//*[@id=\"mG61Hd\"]/div[2]/div/div[2]/div[1]/div/div/div[2]/div/div[1]/div/div[1]/input')\n",
    "fn.send_keys(name)\n",
    "\n",
    "\n",
    "em = driver.find_element(By.XPATH, '//*[@id=\"mG61Hd\"]/div[2]/div/div[2]/div[2]/div/div/div[2]/div/div[1]/div/div[1]/input')\n",
    "em.send_keys(email)\n",
    "\n",
    "\n",
    "fresh = driver.find_element(By.XPATH, '//*[@id=\"i13\"]/div[3]/div')\n",
    "soph = driver.find_element(By.XPATH, '//*[@id=\"mG61Hd\"]/div[2]/div/div[2]/div[3]/div/div/div[2]/div/div/span/div/div[2]/label/div/div[2]/div/span')\n",
    "jun = driver.find_element(By.XPATH, '//*[@id=\"i19\"]/div[3]/div')\n",
    "sen = driver.find_element(By.XPATH, '//*[@id=\"mG61Hd\"]/div[2]/div/div[2]/div[3]/div/div/div[2]/div/div/span/div/div[4]/label/div/div[2]/div/span')\n",
    "btns = [fresh, soph, jun, sen]\n",
    "random.choice(btns).click()\n",
    "\n"
   ]
  }
 ],
 "metadata": {
  "kernelspec": {
   "display_name": "Python 3",
   "language": "python",
   "name": "python3"
  },
  "language_info": {
   "codemirror_mode": {
    "name": "ipython",
    "version": 3
   },
   "file_extension": ".py",
   "mimetype": "text/x-python",
   "name": "python",
   "nbconvert_exporter": "python",
   "pygments_lexer": "ipython3",
   "version": "3.11.7"
  }
 },
 "nbformat": 4,
 "nbformat_minor": 2
}
