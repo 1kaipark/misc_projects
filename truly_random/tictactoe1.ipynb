{
 "cells": [
  {
   "cell_type": "code",
   "execution_count": 1,
   "metadata": {},
   "outputs": [],
   "source": [
    "def initialize_board():\n",
    "    # returns board\n",
    "    return [\n",
    "        ['_', '_', '_'],\n",
    "        ['_', '_', '_'],\n",
    "        ['_', '_', '_']\n",
    "    ]\n",
    "\n",
    "player, opponent = 'X', 'O'\n",
    "\n",
    "def moves_left(board):\n",
    "    for row in range(3):\n",
    "        for column in range(3):\n",
    "            if (board[row][column] == '_'):\n",
    "                return True\n",
    "    return False\n",
    "\n",
    "\n",
    "\n"
   ]
  },
  {
   "cell_type": "code",
   "execution_count": 2,
   "metadata": {},
   "outputs": [
    {
     "ename": "SyntaxError",
     "evalue": "expected ':' (2905027323.py, line 8)",
     "output_type": "error",
     "traceback": [
      "\u001b[0;36m  Cell \u001b[0;32mIn[2], line 8\u001b[0;36m\u001b[0m\n\u001b[0;31m    if board[0][col] == bo\u001b[0m\n\u001b[0m                          ^\u001b[0m\n\u001b[0;31mSyntaxError\u001b[0m\u001b[0;31m:\u001b[0m expected ':'\n"
     ]
    }
   ],
   "source": [
    "board = [\n",
    "        ['X', '_', 'O'],\n",
    "        ['X', 'O', '_'],\n",
    "        ['X', 'O', 'X']\n",
    "    ]\n",
    "\n",
    "for column in range(3):\n",
    "    if board[0][col] == bo\n"
   ]
  },
  {
   "cell_type": "code",
   "execution_count": null,
   "metadata": {},
   "outputs": [],
   "source": []
  }
 ],
 "metadata": {
  "kernelspec": {
   "display_name": "base",
   "language": "python",
   "name": "python3"
  },
  "language_info": {
   "codemirror_mode": {
    "name": "ipython",
    "version": 3
   },
   "file_extension": ".py",
   "mimetype": "text/x-python",
   "name": "python",
   "nbconvert_exporter": "python",
   "pygments_lexer": "ipython3",
   "version": "3.10.9"
  }
 },
 "nbformat": 4,
 "nbformat_minor": 2
}
