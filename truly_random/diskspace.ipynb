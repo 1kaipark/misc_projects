{
 "cells": [
  {
   "cell_type": "code",
   "execution_count": 1,
   "id": "initial_id",
   "metadata": {
    "ExecuteTime": {
     "end_time": "2024-03-14T08:11:39.613698Z",
     "start_time": "2024-03-14T08:11:39.609546Z"
    },
    "collapsed": true
   },
   "outputs": [
    {
     "name": "stdout",
     "output_type": "stream",
     "text": [
      "Total: 228.27 GB\n",
      "Used: 124.52 GB\n",
      "Free: 103.75 GB\n"
     ]
    }
   ],
   "source": [
    "import shutil\n",
    "\n",
    "total, used, free = shutil.disk_usage('/')\n",
    "\n",
    "print(\"Total: {:.2f} GB\".format(total / (1024 ** 3)))\n",
    "print(\"Used: {:.2f} GB\".format(used / (1024 ** 3)))\n",
    "print(\"Free: {:.2f} GB\".format(free / (1024 ** 3)))"
   ]
  },
  {
   "cell_type": "code",
   "execution_count": null,
   "id": "90fa5f72d1e82ea9",
   "metadata": {
    "collapsed": false
   },
   "outputs": [],
   "source": []
  }
 ],
 "metadata": {
  "kernelspec": {
   "display_name": "Python 3",
   "language": "python",
   "name": "python3"
  },
  "language_info": {
   "codemirror_mode": {
    "name": "ipython",
    "version": 3
   },
   "file_extension": ".py",
   "mimetype": "text/x-python",
   "name": "python",
   "nbconvert_exporter": "python",
   "pygments_lexer": "ipython3",
   "version": "3.11.7"
  }
 },
 "nbformat": 4,
 "nbformat_minor": 5
}
