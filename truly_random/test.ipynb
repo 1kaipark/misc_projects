{
 "cells": [
  {
   "cell_type": "code",
   "execution_count": 10,
   "id": "initial_id",
   "metadata": {
    "collapsed": true,
    "ExecuteTime": {
     "end_time": "2024-03-13T09:10:02.560002Z",
     "start_time": "2024-03-13T09:10:02.557014Z"
    }
   },
   "outputs": [
    {
     "ename": "SyntaxError",
     "evalue": "ajdf hi :( (<string>)",
     "output_type": "error",
     "traceback": [
      "Traceback \u001B[0;36m(most recent call last)\u001B[0m:\n",
      "\u001B[0m  File \u001B[1;32m/opt/anaconda3/lib/python3.11/site-packages/IPython/core/interactiveshell.py:3553\u001B[0m in \u001B[1;35mrun_code\u001B[0m\n    exec(code_obj, self.user_global_ns, self.user_ns)\u001B[0m\n",
      "\u001B[0m  Cell \u001B[1;32mIn[10], line 7\u001B[0m\n    bum(\"hi\")\u001B[0m\n",
      "\u001B[0;36m  Cell \u001B[0;32mIn[10], line 3\u001B[0;36m in \u001B[0;35mbum\u001B[0;36m\n\u001B[0;31m    raise SyntaxError(f\"ajdf {i} :(\")\u001B[0;36m\n",
      "\u001B[0;36m  File \u001B[0;32m<string>\u001B[0;36m\u001B[0m\n\u001B[0;31mSyntaxError\u001B[0m\u001B[0;31m:\u001B[0m ajdf hi :(\n"
     ]
    }
   ],
   "source": [
    "def bum(i):\n",
    "    if i == 'hi':\n",
    "        raise SyntaxError(f\"ajdf {i} :(\")\n",
    "    else:\n",
    "        return '!'.join(a for a in i)\n",
    "    \n",
    "bum(\"hi\")"
   ]
  },
  {
   "cell_type": "code",
   "outputs": [],
   "source": [],
   "metadata": {
    "collapsed": false
   },
   "id": "d408a6d79cdb9c67"
  }
 ],
 "metadata": {
  "kernelspec": {
   "display_name": "Python 3",
   "language": "python",
   "name": "python3"
  },
  "language_info": {
   "codemirror_mode": {
    "name": "ipython",
    "version": 2
   },
   "file_extension": ".py",
   "mimetype": "text/x-python",
   "name": "python",
   "nbconvert_exporter": "python",
   "pygments_lexer": "ipython2",
   "version": "2.7.6"
  }
 },
 "nbformat": 4,
 "nbformat_minor": 5
}
