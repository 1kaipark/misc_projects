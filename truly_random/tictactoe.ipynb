{
 "cells": [
  {
   "cell_type": "code",
   "execution_count": 171,
   "metadata": {},
   "outputs": [],
   "source": [
    "def minimax(state, maxxing):\n",
    "    if state == 0:\n",
    "        return 1 if maxxing else -1 # base case\n",
    "    \n",
    "    possible_new_states = [\n",
    "        state - take for take in (1, 2, 3)\n",
    "        if take <= state\n",
    "    ] # possible new states after player takes 1, 2, or 3 stones\n",
    "\n",
    "    if maxxing:\n",
    "        scores = [\n",
    "            minimax(new_state, maxxing = False)\n",
    "            for new_state in possible_new_states\n",
    "        ]\n",
    "        return max(scores)\n",
    "\n",
    "    else:\n",
    "        scores = [\n",
    "            minimax(new_state, maxxing = True)\n",
    "            for new_state in possible_new_states\n",
    "        ]\n",
    "        return min(scores) if len(scores) != 0 else 0\n",
    "\n",
    "\n",
    "    \n",
    "def get_best_move(state):\n",
    "    moves = {}\n",
    "    for take in [1, 2, 3]:\n",
    "        new_state = state - take\n",
    "        score = minimax(new_state, False)\n",
    "        moves[take] = score\n",
    "\n",
    "    for move, score in moves.items():\n",
    "        if score > 0:\n",
    "            return move\n",
    "        else:\n",
    "            print(\"wallahi i'm finished\")\n",
    "            return 1\n",
    "        \n"
   ]
  },
  {
   "cell_type": "code",
   "execution_count": 158,
   "metadata": {},
   "outputs": [
    {
     "data": {
      "text/plain": [
       "-1"
      ]
     },
     "execution_count": 158,
     "metadata": {},
     "output_type": "execute_result"
    }
   ],
   "source": [
    "minimax(2, False)"
   ]
  },
  {
   "cell_type": "code",
   "execution_count": 169,
   "metadata": {},
   "outputs": [],
   "source": [
    "def play_nim(initial_state):\n",
    "    current_state = initial_state\n",
    "    maxxing = True  # Let's say the human player starts, and we consider them as the maximizing player\n",
    "\n",
    "    while current_state > 0:\n",
    "        print(f\"Current number of stones: {current_state}\")\n",
    "        if maxxing:  # Human's turn\n",
    "            take = int(input(\"How many stones will you take (1-3)? \"))\n",
    "            while take not in [1, 2, 3] or take > current_state:\n",
    "                print(\"Invalid move. Try again.\")\n",
    "                take = int(input(\"How many stones will you take (1-3)? \"))\n",
    "        else:  # AI's turn\n",
    "            take = get_best_move(current_state)\n",
    "            print(f\"AI takes {take} stones.\")\n",
    "        \n",
    "        current_state -= take\n",
    "        maxxing = not maxxing  # Switch turns\n",
    "\n",
    "    if maxxing:\n",
    "        print(\"AI wins!\")\n",
    "    else:\n",
    "        print(\"You win!\")"
   ]
  },
  {
   "cell_type": "code",
   "execution_count": 172,
   "metadata": {},
   "outputs": [
    {
     "name": "stdout",
     "output_type": "stream",
     "text": [
      "Current number of stones: 10\n",
      "Current number of stones: 9\n",
      "wallahi i'm finished\n",
      "AI takes 1 stones.\n",
      "Current number of stones: 8\n",
      "Current number of stones: 5\n",
      "wallahi i'm finished\n",
      "AI takes 1 stones.\n",
      "Current number of stones: 4\n",
      "Current number of stones: 1\n",
      "wallahi i'm finished\n",
      "AI takes 1 stones.\n",
      "AI wins!\n"
     ]
    }
   ],
   "source": [
    "play_nim(10)"
   ]
  },
  {
   "cell_type": "code",
   "execution_count": null,
   "metadata": {},
   "outputs": [],
   "source": []
  }
 ],
 "metadata": {
  "kernelspec": {
   "display_name": "base",
   "language": "python",
   "name": "python3"
  },
  "language_info": {
   "codemirror_mode": {
    "name": "ipython",
    "version": 3
   },
   "file_extension": ".py",
   "mimetype": "text/x-python",
   "name": "python",
   "nbconvert_exporter": "python",
   "pygments_lexer": "ipython3",
   "version": "3.10.9"
  }
 },
 "nbformat": 4,
 "nbformat_minor": 2
}
